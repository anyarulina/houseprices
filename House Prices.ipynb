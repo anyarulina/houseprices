{
 "cells": [
  {
   "cell_type": "markdown",
   "metadata": {},
   "source": [
    "Задание [House Prices: Advanced Regression Techniques](https://www.kaggle.com/c/house-prices-advanced-regression-techniques), цель - предказать цену дома"
   ]
  },
  {
   "cell_type": "code",
   "execution_count": 61,
   "metadata": {},
   "outputs": [],
   "source": [
    "import numpy as np\n",
    "from matplotlib import pyplot as plt\n",
    "import pandas as pd\n",
    "import seaborn as sns\n",
    "%matplotlib inline"
   ]
  },
  {
   "cell_type": "markdown",
   "metadata": {},
   "source": [
    "#### Чтение данных"
   ]
  },
  {
   "cell_type": "code",
   "execution_count": 62,
   "metadata": {},
   "outputs": [],
   "source": [
    "train = pd.read_csv('./resources/train.csv') \n",
    "test = pd.read_csv('./resources/test.csv') \n",
    "test_target = pd.read_csv('./resources/sample_submission.csv') # целевая переменная из test\n",
    "train_target = train['SalePrice']  # целевая переменная из train\n",
    "# train_target = train_target.to_frame('SalePrice')"
   ]
  },
  {
   "cell_type": "code",
   "execution_count": 63,
   "metadata": {},
   "outputs": [],
   "source": [
    "del train['SalePrice']\n",
    "del test_target['Id']"
   ]
  },
  {
   "cell_type": "code",
   "execution_count": 64,
   "metadata": {},
   "outputs": [],
   "source": [
    "all_data = train.append(test) "
   ]
  },
  {
   "cell_type": "code",
   "execution_count": 65,
   "metadata": {},
   "outputs": [
    {
     "data": {
      "text/html": [
       "<div>\n",
       "<style scoped>\n",
       "    .dataframe tbody tr th:only-of-type {\n",
       "        vertical-align: middle;\n",
       "    }\n",
       "\n",
       "    .dataframe tbody tr th {\n",
       "        vertical-align: top;\n",
       "    }\n",
       "\n",
       "    .dataframe thead th {\n",
       "        text-align: right;\n",
       "    }\n",
       "</style>\n",
       "<table border=\"1\" class=\"dataframe\">\n",
       "  <thead>\n",
       "    <tr style=\"text-align: right;\">\n",
       "      <th></th>\n",
       "      <th>Id</th>\n",
       "      <th>MSSubClass</th>\n",
       "      <th>MSZoning</th>\n",
       "      <th>LotFrontage</th>\n",
       "      <th>LotArea</th>\n",
       "      <th>Street</th>\n",
       "      <th>Alley</th>\n",
       "      <th>LotShape</th>\n",
       "      <th>LandContour</th>\n",
       "      <th>Utilities</th>\n",
       "      <th>...</th>\n",
       "      <th>ScreenPorch</th>\n",
       "      <th>PoolArea</th>\n",
       "      <th>PoolQC</th>\n",
       "      <th>Fence</th>\n",
       "      <th>MiscFeature</th>\n",
       "      <th>MiscVal</th>\n",
       "      <th>MoSold</th>\n",
       "      <th>YrSold</th>\n",
       "      <th>SaleType</th>\n",
       "      <th>SaleCondition</th>\n",
       "    </tr>\n",
       "  </thead>\n",
       "  <tbody>\n",
       "    <tr>\n",
       "      <th>487</th>\n",
       "      <td>1948</td>\n",
       "      <td>20</td>\n",
       "      <td>RL</td>\n",
       "      <td>NaN</td>\n",
       "      <td>47280</td>\n",
       "      <td>Pave</td>\n",
       "      <td>NaN</td>\n",
       "      <td>IR1</td>\n",
       "      <td>Lvl</td>\n",
       "      <td>AllPub</td>\n",
       "      <td>...</td>\n",
       "      <td>0</td>\n",
       "      <td>0</td>\n",
       "      <td>NaN</td>\n",
       "      <td>NaN</td>\n",
       "      <td>NaN</td>\n",
       "      <td>0</td>\n",
       "      <td>7</td>\n",
       "      <td>2008</td>\n",
       "      <td>WD</td>\n",
       "      <td>Family</td>\n",
       "    </tr>\n",
       "    <tr>\n",
       "      <th>648</th>\n",
       "      <td>649</td>\n",
       "      <td>60</td>\n",
       "      <td>RL</td>\n",
       "      <td>70.0</td>\n",
       "      <td>7700</td>\n",
       "      <td>Pave</td>\n",
       "      <td>NaN</td>\n",
       "      <td>Reg</td>\n",
       "      <td>Lvl</td>\n",
       "      <td>AllPub</td>\n",
       "      <td>...</td>\n",
       "      <td>0</td>\n",
       "      <td>0</td>\n",
       "      <td>NaN</td>\n",
       "      <td>NaN</td>\n",
       "      <td>NaN</td>\n",
       "      <td>0</td>\n",
       "      <td>6</td>\n",
       "      <td>2010</td>\n",
       "      <td>WD</td>\n",
       "      <td>Normal</td>\n",
       "    </tr>\n",
       "    <tr>\n",
       "      <th>988</th>\n",
       "      <td>2449</td>\n",
       "      <td>70</td>\n",
       "      <td>RM</td>\n",
       "      <td>35.0</td>\n",
       "      <td>4571</td>\n",
       "      <td>Pave</td>\n",
       "      <td>Grvl</td>\n",
       "      <td>Reg</td>\n",
       "      <td>Lvl</td>\n",
       "      <td>AllPub</td>\n",
       "      <td>...</td>\n",
       "      <td>0</td>\n",
       "      <td>0</td>\n",
       "      <td>NaN</td>\n",
       "      <td>NaN</td>\n",
       "      <td>NaN</td>\n",
       "      <td>0</td>\n",
       "      <td>6</td>\n",
       "      <td>2007</td>\n",
       "      <td>WD</td>\n",
       "      <td>Normal</td>\n",
       "    </tr>\n",
       "    <tr>\n",
       "      <th>1275</th>\n",
       "      <td>1276</td>\n",
       "      <td>90</td>\n",
       "      <td>RL</td>\n",
       "      <td>95.0</td>\n",
       "      <td>11345</td>\n",
       "      <td>Pave</td>\n",
       "      <td>NaN</td>\n",
       "      <td>Reg</td>\n",
       "      <td>Lvl</td>\n",
       "      <td>AllPub</td>\n",
       "      <td>...</td>\n",
       "      <td>0</td>\n",
       "      <td>0</td>\n",
       "      <td>NaN</td>\n",
       "      <td>NaN</td>\n",
       "      <td>NaN</td>\n",
       "      <td>0</td>\n",
       "      <td>7</td>\n",
       "      <td>2007</td>\n",
       "      <td>WD</td>\n",
       "      <td>Normal</td>\n",
       "    </tr>\n",
       "    <tr>\n",
       "      <th>1230</th>\n",
       "      <td>1231</td>\n",
       "      <td>90</td>\n",
       "      <td>RL</td>\n",
       "      <td>NaN</td>\n",
       "      <td>18890</td>\n",
       "      <td>Pave</td>\n",
       "      <td>NaN</td>\n",
       "      <td>IR1</td>\n",
       "      <td>Lvl</td>\n",
       "      <td>AllPub</td>\n",
       "      <td>...</td>\n",
       "      <td>0</td>\n",
       "      <td>0</td>\n",
       "      <td>NaN</td>\n",
       "      <td>NaN</td>\n",
       "      <td>Gar2</td>\n",
       "      <td>8300</td>\n",
       "      <td>8</td>\n",
       "      <td>2007</td>\n",
       "      <td>WD</td>\n",
       "      <td>Normal</td>\n",
       "    </tr>\n",
       "  </tbody>\n",
       "</table>\n",
       "<p>5 rows × 80 columns</p>\n",
       "</div>"
      ],
      "text/plain": [
       "        Id  MSSubClass MSZoning  LotFrontage  LotArea Street Alley LotShape  \\\n",
       "487   1948          20       RL          NaN    47280   Pave   NaN      IR1   \n",
       "648    649          60       RL         70.0     7700   Pave   NaN      Reg   \n",
       "988   2449          70       RM         35.0     4571   Pave  Grvl      Reg   \n",
       "1275  1276          90       RL         95.0    11345   Pave   NaN      Reg   \n",
       "1230  1231          90       RL          NaN    18890   Pave   NaN      IR1   \n",
       "\n",
       "     LandContour Utilities  ... ScreenPorch PoolArea PoolQC Fence MiscFeature  \\\n",
       "487          Lvl    AllPub  ...           0        0    NaN   NaN         NaN   \n",
       "648          Lvl    AllPub  ...           0        0    NaN   NaN         NaN   \n",
       "988          Lvl    AllPub  ...           0        0    NaN   NaN         NaN   \n",
       "1275         Lvl    AllPub  ...           0        0    NaN   NaN         NaN   \n",
       "1230         Lvl    AllPub  ...           0        0    NaN   NaN        Gar2   \n",
       "\n",
       "     MiscVal MoSold  YrSold  SaleType  SaleCondition  \n",
       "487        0      7    2008        WD         Family  \n",
       "648        0      6    2010        WD         Normal  \n",
       "988        0      6    2007        WD         Normal  \n",
       "1275       0      7    2007        WD         Normal  \n",
       "1230    8300      8    2007        WD         Normal  \n",
       "\n",
       "[5 rows x 80 columns]"
      ]
     },
     "execution_count": 65,
     "metadata": {},
     "output_type": "execute_result"
    }
   ],
   "source": [
    "all_data.sample(n=5)"
   ]
  },
  {
   "cell_type": "code",
   "execution_count": 66,
   "metadata": {},
   "outputs": [
    {
     "name": "stdout",
     "output_type": "stream",
     "text": [
      "(1460, 80) <class 'pandas.core.frame.DataFrame'>\n",
      "(1459, 80) <class 'pandas.core.frame.DataFrame'>\n",
      "(1460,) <class 'pandas.core.series.Series'>\n",
      "(1459, 1) <class 'pandas.core.frame.DataFrame'>\n",
      "(2919, 80) <class 'pandas.core.frame.DataFrame'>\n"
     ]
    }
   ],
   "source": [
    "for i in [train, test, train_target, test_target, all_data]:\n",
    "    print(i.shape, type(i))"
   ]
  },
  {
   "cell_type": "code",
   "execution_count": 67,
   "metadata": {},
   "outputs": [
    {
     "data": {
      "text/plain": [
       "Text(0, 0.5, 'Плотность')"
      ]
     },
     "execution_count": 67,
     "metadata": {},
     "output_type": "execute_result"
    },
    {
     "data": {
      "image/png": "[encoded data removed]",
      "text/plain": [
       "<Figure size 1440x504 with 1 Axes>"
      ]
     },
     "metadata": {
      "needs_background": "light"
     },
     "output_type": "display_data"
    }
   ],
   "source": [
    "plt.figure(figsize=(20,7))\n",
    "sns.distplot(train_target, color='indigo')\n",
    "plt.title(\"Распределение целевой переменной в train\")\n",
    "plt.ylabel(\"Плотность\")"
   ]
  },
  {
   "cell_type": "markdown",
   "metadata": {},
   "source": [
    "целевая переменная нормально распределена"
   ]
  },
  {
   "cell_type": "code",
   "execution_count": 68,
   "metadata": {},
   "outputs": [
    {
     "data": {
      "text/plain": [
       "Text(0, 0.5, 'Плотность')"
      ]
     },
     "execution_count": 68,
     "metadata": {},
     "output_type": "execute_result"
    },
    {
     "data": {
      "image/png": "[encoded data removed]",
      "text/plain": [
       "<Figure size 1440x504 with 1 Axes>"
      ]
     },
     "metadata": {
      "needs_background": "light"
     },
     "output_type": "display_data"
    }
   ],
   "source": [
    "plt.figure(figsize=(20,7))\n",
    "sns.distplot(test_target, color='purple')\n",
    "plt.title(\"Распределение целевой переменной в test\")\n",
    "plt.ylabel(\"Плотность\")"
   ]
  },
  {
   "cell_type": "markdown",
   "metadata": {},
   "source": [
    "#### Пропущенные значения"
   ]
  },
  {
   "cell_type": "code",
   "execution_count": 69,
   "metadata": {},
   "outputs": [
    {
     "name": "stdout",
     "output_type": "stream",
     "text": [
      "All data #2919\n",
      "                  #          %\n",
      "PoolQC         2909  99.657417\n",
      "MiscFeature    2814  96.402878\n",
      "Alley          2721  93.216855\n",
      "Fence          2348  80.438506\n",
      "FireplaceQu    1420  48.646797\n",
      "LotFrontage     486  16.649538\n",
      "GarageYrBlt     159   5.447071\n",
      "GarageFinish    159   5.447071\n",
      "GarageQual      159   5.447071\n",
      "GarageCond      159   5.447071\n",
      "GarageType      157   5.378554\n",
      "BsmtExposure     82   2.809181\n",
      "BsmtCond         82   2.809181\n",
      "BsmtQual         81   2.774923\n",
      "BsmtFinType2     80   2.740665\n",
      "BsmtFinType1     79   2.706406\n",
      "MasVnrType       24   0.822199\n",
      "MasVnrArea       23   0.787941\n",
      "MSZoning          4   0.137033\n",
      "Functional        2   0.068517\n",
      "BsmtHalfBath      2   0.068517\n",
      "BsmtFullBath      2   0.068517\n",
      "Utilities         2   0.068517\n",
      "GarageCars        1   0.034258\n",
      "KitchenQual       1   0.034258\n",
      "BsmtFinSF1        1   0.034258\n",
      "SaleType          1   0.034258\n",
      "BsmtFinSF2        1   0.034258\n",
      "BsmtUnfSF         1   0.034258\n",
      "TotalBsmtSF       1   0.034258\n",
      "...             ...        ...\n",
      "HeatingQC         0   0.000000\n",
      "FullBath          0   0.000000\n",
      "OverallCond       0   0.000000\n",
      "LotArea           0   0.000000\n",
      "Street            0   0.000000\n",
      "LotShape          0   0.000000\n",
      "LandContour       0   0.000000\n",
      "LotConfig         0   0.000000\n",
      "LandSlope         0   0.000000\n",
      "Neighborhood      0   0.000000\n",
      "Condition1        0   0.000000\n",
      "Condition2        0   0.000000\n",
      "BldgType          0   0.000000\n",
      "HouseStyle        0   0.000000\n",
      "OverallQual       0   0.000000\n",
      "YearBuilt         0   0.000000\n",
      "GrLivArea         0   0.000000\n",
      "YearRemodAdd      0   0.000000\n",
      "RoofStyle         0   0.000000\n",
      "RoofMatl          0   0.000000\n",
      "ExterQual         0   0.000000\n",
      "ExterCond         0   0.000000\n",
      "Foundation        0   0.000000\n",
      "Heating           0   0.000000\n",
      "MSSubClass        0   0.000000\n",
      "CentralAir        0   0.000000\n",
      "1stFlrSF          0   0.000000\n",
      "2ndFlrSF          0   0.000000\n",
      "LowQualFinSF      0   0.000000\n",
      "SaleCondition     0   0.000000\n",
      "\n",
      "[80 rows x 2 columns]\n"
     ]
    }
   ],
   "source": [
    "def missing_values(df):\n",
    "    null_val = df.isnull().sum()\n",
    "    percent = 100 * df.isnull().sum()/len(df)\n",
    "    missing_table = pd.concat([null_val, percent], axis=1)\n",
    "    col = missing_table.rename(columns = {0 : '#', 1 : '%'})\n",
    "    return col\n",
    "\n",
    "print(\"All data #\"+str(len(all_data)))\n",
    "cols = missing_values(all_data)\n",
    "print(cols.sort_values(by=\"%\", ascending=False))"
   ]
  },
  {
   "cell_type": "code",
   "execution_count": 70,
   "metadata": {},
   "outputs": [],
   "source": [
    "# удаляем столбцы, где пропусков > 40%\n",
    "all_data.drop(['PoolQC', 'MiscFeature', 'Alley', 'Fence', 'FireplaceQu'], axis=1, inplace = True)"
   ]
  },
  {
   "cell_type": "markdown",
   "metadata": {},
   "source": [
    "#### Заполнение пропусков в категориальных признаках"
   ]
  },
  {
   "cell_type": "code",
   "execution_count": 71,
   "metadata": {},
   "outputs": [],
   "source": [
    "# названия столбцов с категориальными признаками\n",
    "categorical_columns = all_data.columns[all_data.dtypes == 'object']"
   ]
  },
  {
   "cell_type": "code",
   "execution_count": 72,
   "metadata": {},
   "outputs": [],
   "source": [
    "from sklearn.preprocessing import LabelEncoder\n",
    "label_encoder = LabelEncoder()\n",
    "\n",
    "for column in categorical_columns:\n",
    "    all_data[column] = all_data[column].fillna(all_data[column].mode()[0])\n",
    "    all_data[column] = label_encoder.fit_transform(all_data[column])[0]\n",
    "#    all_data[column] = pd.factorize(all_data[column])[0]"
   ]
  },
  {
   "cell_type": "markdown",
   "metadata": {},
   "source": [
    "####  Заполнение пропусков в числовых признаках"
   ]
  },
  {
   "cell_type": "code",
   "execution_count": 73,
   "metadata": {},
   "outputs": [],
   "source": [
    "# названия столбцов с числовыми признаками\n",
    "cont_columns = all_data.columns[all_data.dtypes != 'object']"
   ]
  },
  {
   "cell_type": "code",
   "execution_count": 74,
   "metadata": {},
   "outputs": [],
   "source": [
    "from sklearn.preprocessing import StandardScaler #для масштабирования признаков\n",
    "\n",
    "scaler = StandardScaler()\n",
    "for column in cont_columns:\n",
    "    all_data[column] = all_data[column].fillna(all_data[column].mean())\n",
    "    all_data[column] = scaler.fit_transform(all_data[[column]])"
   ]
  },
  {
   "cell_type": "code",
   "execution_count": 75,
   "metadata": {},
   "outputs": [
    {
     "data": {
      "text/html": [
       "<div>\n",
       "<style scoped>\n",
       "    .dataframe tbody tr th:only-of-type {\n",
       "        vertical-align: middle;\n",
       "    }\n",
       "\n",
       "    .dataframe tbody tr th {\n",
       "        vertical-align: top;\n",
       "    }\n",
       "\n",
       "    .dataframe thead th {\n",
       "        text-align: right;\n",
       "    }\n",
       "</style>\n",
       "<table border=\"1\" class=\"dataframe\">\n",
       "  <thead>\n",
       "    <tr style=\"text-align: right;\">\n",
       "      <th></th>\n",
       "      <th>Id</th>\n",
       "      <th>MSSubClass</th>\n",
       "      <th>MSZoning</th>\n",
       "      <th>LotFrontage</th>\n",
       "      <th>LotArea</th>\n",
       "      <th>Street</th>\n",
       "      <th>LotShape</th>\n",
       "      <th>LandContour</th>\n",
       "      <th>Utilities</th>\n",
       "      <th>LotConfig</th>\n",
       "      <th>...</th>\n",
       "      <th>OpenPorchSF</th>\n",
       "      <th>EnclosedPorch</th>\n",
       "      <th>3SsnPorch</th>\n",
       "      <th>ScreenPorch</th>\n",
       "      <th>PoolArea</th>\n",
       "      <th>MiscVal</th>\n",
       "      <th>MoSold</th>\n",
       "      <th>YrSold</th>\n",
       "      <th>SaleType</th>\n",
       "      <th>SaleCondition</th>\n",
       "    </tr>\n",
       "  </thead>\n",
       "  <tbody>\n",
       "    <tr>\n",
       "      <th>1165</th>\n",
       "      <td>-0.348902</td>\n",
       "      <td>-0.873616</td>\n",
       "      <td>0.0</td>\n",
       "      <td>0.454941</td>\n",
       "      <td>-0.079526</td>\n",
       "      <td>0.0</td>\n",
       "      <td>0.0</td>\n",
       "      <td>0.0</td>\n",
       "      <td>0.0</td>\n",
       "      <td>0.0</td>\n",
       "      <td>...</td>\n",
       "      <td>0.984448</td>\n",
       "      <td>-0.359601</td>\n",
       "      <td>-0.103331</td>\n",
       "      <td>-0.285935</td>\n",
       "      <td>-0.06315</td>\n",
       "      <td>-0.089592</td>\n",
       "      <td>1.026753</td>\n",
       "      <td>0.918253</td>\n",
       "      <td>0.0</td>\n",
       "      <td>0.0</td>\n",
       "    </tr>\n",
       "    <tr>\n",
       "      <th>972</th>\n",
       "      <td>1.154701</td>\n",
       "      <td>-0.873616</td>\n",
       "      <td>0.0</td>\n",
       "      <td>0.032578</td>\n",
       "      <td>-0.361811</td>\n",
       "      <td>0.0</td>\n",
       "      <td>0.0</td>\n",
       "      <td>0.0</td>\n",
       "      <td>0.0</td>\n",
       "      <td>0.0</td>\n",
       "      <td>...</td>\n",
       "      <td>-0.702843</td>\n",
       "      <td>-0.359601</td>\n",
       "      <td>-0.103331</td>\n",
       "      <td>3.719424</td>\n",
       "      <td>-0.06315</td>\n",
       "      <td>-0.089592</td>\n",
       "      <td>-1.183764</td>\n",
       "      <td>-0.602962</td>\n",
       "      <td>0.0</td>\n",
       "      <td>0.0</td>\n",
       "    </tr>\n",
       "    <tr>\n",
       "      <th>965</th>\n",
       "      <td>1.146393</td>\n",
       "      <td>-0.167905</td>\n",
       "      <td>0.0</td>\n",
       "      <td>-0.436714</td>\n",
       "      <td>0.014696</td>\n",
       "      <td>0.0</td>\n",
       "      <td>0.0</td>\n",
       "      <td>0.0</td>\n",
       "      <td>0.0</td>\n",
       "      <td>0.0</td>\n",
       "      <td>...</td>\n",
       "      <td>-0.702843</td>\n",
       "      <td>-0.359601</td>\n",
       "      <td>-0.103331</td>\n",
       "      <td>-0.285935</td>\n",
       "      <td>-0.06315</td>\n",
       "      <td>-0.089592</td>\n",
       "      <td>0.658334</td>\n",
       "      <td>-0.602962</td>\n",
       "      <td>0.0</td>\n",
       "      <td>0.0</td>\n",
       "    </tr>\n",
       "    <tr>\n",
       "      <th>439</th>\n",
       "      <td>0.522167</td>\n",
       "      <td>0.302568</td>\n",
       "      <td>0.0</td>\n",
       "      <td>-0.765218</td>\n",
       "      <td>-0.382101</td>\n",
       "      <td>0.0</td>\n",
       "      <td>0.0</td>\n",
       "      <td>0.0</td>\n",
       "      <td>0.0</td>\n",
       "      <td>0.0</td>\n",
       "      <td>...</td>\n",
       "      <td>0.969648</td>\n",
       "      <td>-0.359601</td>\n",
       "      <td>-0.103331</td>\n",
       "      <td>3.185376</td>\n",
       "      <td>-0.06315</td>\n",
       "      <td>-0.089592</td>\n",
       "      <td>-0.446925</td>\n",
       "      <td>0.918253</td>\n",
       "      <td>0.0</td>\n",
       "      <td>0.0</td>\n",
       "    </tr>\n",
       "    <tr>\n",
       "      <th>418</th>\n",
       "      <td>-1.235399</td>\n",
       "      <td>-0.167905</td>\n",
       "      <td>0.0</td>\n",
       "      <td>-0.436714</td>\n",
       "      <td>-0.254654</td>\n",
       "      <td>0.0</td>\n",
       "      <td>0.0</td>\n",
       "      <td>0.0</td>\n",
       "      <td>0.0</td>\n",
       "      <td>0.0</td>\n",
       "      <td>...</td>\n",
       "      <td>-0.702843</td>\n",
       "      <td>-0.359601</td>\n",
       "      <td>-0.103331</td>\n",
       "      <td>-0.285935</td>\n",
       "      <td>-0.06315</td>\n",
       "      <td>-0.089592</td>\n",
       "      <td>-0.815344</td>\n",
       "      <td>-0.602962</td>\n",
       "      <td>0.0</td>\n",
       "      <td>0.0</td>\n",
       "    </tr>\n",
       "  </tbody>\n",
       "</table>\n",
       "<p>5 rows × 75 columns</p>\n",
       "</div>"
      ],
      "text/plain": [
       "            Id  MSSubClass  MSZoning  LotFrontage   LotArea  Street  LotShape  \\\n",
       "1165 -0.348902   -0.873616       0.0     0.454941 -0.079526     0.0       0.0   \n",
       "972   1.154701   -0.873616       0.0     0.032578 -0.361811     0.0       0.0   \n",
       "965   1.146393   -0.167905       0.0    -0.436714  0.014696     0.0       0.0   \n",
       "439   0.522167    0.302568       0.0    -0.765218 -0.382101     0.0       0.0   \n",
       "418  -1.235399   -0.167905       0.0    -0.436714 -0.254654     0.0       0.0   \n",
       "\n",
       "      LandContour  Utilities  LotConfig  ...  OpenPorchSF  EnclosedPorch  \\\n",
       "1165          0.0        0.0        0.0  ...     0.984448      -0.359601   \n",
       "972           0.0        0.0        0.0  ...    -0.702843      -0.359601   \n",
       "965           0.0        0.0        0.0  ...    -0.702843      -0.359601   \n",
       "439           0.0        0.0        0.0  ...     0.969648      -0.359601   \n",
       "418           0.0        0.0        0.0  ...    -0.702843      -0.359601   \n",
       "\n",
       "      3SsnPorch  ScreenPorch  PoolArea   MiscVal    MoSold    YrSold  \\\n",
       "1165  -0.103331    -0.285935  -0.06315 -0.089592  1.026753  0.918253   \n",
       "972   -0.103331     3.719424  -0.06315 -0.089592 -1.183764 -0.602962   \n",
       "965   -0.103331    -0.285935  -0.06315 -0.089592  0.658334 -0.602962   \n",
       "439   -0.103331     3.185376  -0.06315 -0.089592 -0.446925  0.918253   \n",
       "418   -0.103331    -0.285935  -0.06315 -0.089592 -0.815344 -0.602962   \n",
       "\n",
       "      SaleType  SaleCondition  \n",
       "1165       0.0            0.0  \n",
       "972        0.0            0.0  \n",
       "965        0.0            0.0  \n",
       "439        0.0            0.0  \n",
       "418        0.0            0.0  \n",
       "\n",
       "[5 rows x 75 columns]"
      ]
     },
     "execution_count": 75,
     "metadata": {},
     "output_type": "execute_result"
    }
   ],
   "source": [
    "all_data.sample(n=5)"
   ]
  },
  {
   "cell_type": "code",
   "execution_count": 76,
   "metadata": {},
   "outputs": [
    {
     "data": {
      "text/plain": [
       "(2919, 75)"
      ]
     },
     "execution_count": 76,
     "metadata": {},
     "output_type": "execute_result"
    }
   ],
   "source": [
    "all_data.shape"
   ]
  },
  {
   "cell_type": "code",
   "execution_count": 77,
   "metadata": {},
   "outputs": [],
   "source": [
    "train = all_data[:1460]\n",
    "test  = all_data[1460:]"
   ]
  },
  {
   "cell_type": "markdown",
   "metadata": {},
   "source": [
    "#### Выбираем признаки для обучения"
   ]
  },
  {
   "cell_type": "code",
   "execution_count": 78,
   "metadata": {},
   "outputs": [
    {
     "name": "stdout",
     "output_type": "stream",
     "text": [
      "Важность признаков:\n",
      "nan SaleCondition\n",
      "nan HeatingQC\n",
      "nan Foundation\n",
      "nan BsmtQual\n",
      "nan BsmtCond\n",
      "nan BsmtExposure\n",
      "nan BsmtFinType1\n",
      "nan BsmtFinType2\n",
      "nan Heating\n",
      "nan CentralAir\n",
      "nan SaleType\n",
      "nan Electrical\n",
      "nan KitchenQual\n",
      "nan Functional\n",
      "nan SaleType\n",
      "nan GarageFinish\n",
      "nan GarageQual\n",
      "nan GarageCond\n",
      "nan ExterCond\n",
      "nan ExterQual\n",
      "nan MasVnrType\n",
      "nan Exterior2nd\n",
      "nan MSZoning\n",
      "nan Street\n",
      "nan LotShape\n",
      "nan LandContour\n",
      "nan Utilities\n",
      "nan LotConfig\n",
      "nan LandSlope\n",
      "nan Neighborhood\n",
      "nan Condition1\n",
      "nan Condition2\n",
      "nan BldgType\n",
      "nan HouseStyle\n",
      "nan RoofStyle\n",
      "nan RoofMatl\n",
      "nan Exterior1st\n",
      "nan PavedDrive\n",
      "nan GarageType\n",
      "nan SaleCondition\n",
      "nan KitchenQual\n",
      "nan CentralAir\n",
      "nan HeatingQC\n",
      "nan BsmtFinType2\n",
      "nan Neighborhood\n",
      "nan Condition1\n",
      "nan Condition2\n",
      "nan BldgType\n",
      "nan HouseStyle\n",
      "nan RoofStyle\n",
      "nan RoofMatl\n",
      "nan Exterior1st\n",
      "nan Exterior2nd\n",
      "nan MasVnrType\n",
      "nan ExterQual\n",
      "nan ExterCond\n",
      "nan Foundation\n",
      "nan BsmtQual\n",
      "nan BsmtCond\n",
      "nan BsmtExposure\n",
      "nan Electrical\n",
      "nan Heating\n",
      "nan LandSlope\n",
      "nan LandContour\n",
      "nan PavedDrive\n",
      "nan GarageCond\n",
      "nan GarageQual\n",
      "nan GarageFinish\n",
      "nan GarageType\n",
      "nan Functional\n",
      "nan MSZoning\n",
      "nan Street\n",
      "nan LotShape\n",
      "nan BsmtFinType1\n",
      "nan Utilities\n",
      "nan LotConfig\n",
      "113.87 OverallQual\n",
      "68.38 MiscVal\n",
      "59.99 GrLivArea\n",
      "56.00 LotArea\n",
      "44.38 GarageCars\n",
      "39.28 FullBath\n",
      "36.59 GarageArea\n",
      "29.69 1stFlrSF\n",
      "29.03 TotalBsmtSF\n",
      "28.89 YearBuilt\n",
      "19.93 MasVnrArea\n",
      "16.84 TotRmsAbvGrd\n",
      "15.64 YearRemodAdd\n",
      "15.25 GarageYrBlt\n",
      "12.24 BsmtFinSF1\n",
      "11.48 2ndFlrSF\n",
      "10.91 Fireplaces\n",
      "6.66 BsmtUnfSF\n",
      "6.02 OpenPorchSF\n",
      "5.85 HalfBath\n",
      "5.13 WoodDeckSF\n",
      "2.67 BedroomAbvGr\n",
      "2.30 LotFrontage\n",
      "1.36 BsmtFullBath\n",
      "1.04 OverallCond\n",
      "0.74 YrSold\n",
      "0.30 ScreenPorch\n",
      "0.27 BsmtFinSF2\n",
      "0.23 PoolArea\n",
      "0.12 MoSold\n",
      "0.08 Id\n",
      "0.02 3SsnPorch\n",
      "0.02 KitchenAbvGr\n",
      "0.02 MSSubClass\n",
      "0.01 LowQualFinSF\n",
      "0.01 BsmtHalfBath\n",
      "0.00 EnclosedPorch\n"
     ]
    }
   ],
   "source": [
    "from sklearn.feature_selection import SelectKBest, f_classif\n",
    "\n",
    "all_features = cont_columns.append(categorical_columns)\n",
    "\n",
    "selector = SelectKBest(f_classif, len(all_features))\n",
    "selector.fit(train[all_features], train_target)\n",
    "scores = -np.log10(selector.pvalues_)\n",
    "indices = np.argsort(scores)[::-1]\n",
    "\n",
    "print('Важность признаков:')\n",
    "for i in range(len(scores)):\n",
    "    print('%.2f %s' % (scores[indices[i]], all_features[indices[i]]))\n",
    "\n"
   ]
  },
  {
   "cell_type": "code",
   "execution_count": 79,
   "metadata": {},
   "outputs": [],
   "source": [
    "fparams = \\\n",
    "    ['OverallQual', 'MiscVal', 'GrLivArea', 'LotArea', 'GarageCars', \n",
    "     'FullBath', 'ExterQual', 'GarageArea', '1stFlrSF', 'TotalBsmtSF', \n",
    "     'YearBuilt', 'Foundation', 'KitchenQual', 'MasVnrArea', 'BsmtQual', \n",
    "     'TotRmsAbvGrd', 'Street', 'YearRemodAdd', 'GarageYrBlt', 'BsmtFinSF1', \n",
    "     '2ndFlrSF', 'Fireplaces', 'Heating', 'CentralAir', 'LotShape', \n",
    "     'SaleCondition', 'BsmtUnfSF', 'OpenPorchSF', 'GarageFinish', 'HalfBath', \n",
    "     'WoodDeckSF', 'HeatingQC', 'BsmtExposure', 'LandContour', 'Exterior2nd', \n",
    "     'MSZoning', 'BedroomAbvGr', 'MasVnrType', 'BsmtFinType1', 'LotFrontage', \n",
    "     'Neighborhood', 'Electrical', 'LandSlope', 'SaleType', 'BsmtFullBath', \n",
    "     'Exterior1st', 'OverallCond', 'YrSold', 'BsmtCond', 'GarageType', \n",
    "     'LotConfig', 'ScreenPorch', 'BsmtFinSF2', 'GarageQual', 'PoolArea', \n",
    "     'Condition2', 'MoSold', 'BldgType']\n",
    "\n",
    "train_features = train[fparams].values\n",
    "test_features  = test[fparams].values\n",
    "train_target = train_target.values\n",
    "test_target = test_target.values"
   ]
  },
  {
   "cell_type": "code",
   "execution_count": 80,
   "metadata": {},
   "outputs": [],
   "source": [
    "import warnings\n",
    "warnings.filterwarnings('ignore')"
   ]
  },
  {
   "cell_type": "code",
   "execution_count": 21,
   "metadata": {},
   "outputs": [
    {
     "name": "stdout",
     "output_type": "stream",
     "text": [
      "Наилучший набор параметров модели SVC(C=2.0, cache_size=200, class_weight=None, coef0=0.0,\n",
      "    decision_function_shape='ovr', degree=3, gamma='auto', kernel='rbf',\n",
      "    max_iter=-1, probability=False, random_state=None, shrinking=True,\n",
      "    tol=0.001, verbose=False) со значением метрики neg_mean_squared_error -2325070939.2726026\n"
     ]
    }
   ],
   "source": [
    "from sklearn.svm import SVC\n",
    "from sklearn.model_selection import GridSearchCV\n",
    "from sklearn.metrics import mean_squared_error \n",
    "\n",
    "params = [{'C'      : [0.1, 1.0, 2.0]},\n",
    "          {'kernel' : ['linear', 'poly', 'rbf']},\n",
    "          {'degree' : [1, 2, 3]},\n",
    "          {'gamma'  : ['auto', 'scale']} ]\n",
    "\n",
    "gs = GridSearchCV(SVC(gamma = 'auto'), param_grid = params, scoring = 'neg_mean_squared_error', cv = 5)\n",
    "gs.fit(train_features, train_target)\n",
    "\n",
    "print('Наилучший набор параметров модели SVC', gs.best_estimator_, 'со значением метрики neg_mean_squared_error', gs.best_score_)           "
   ]
  },
  {
   "cell_type": "code",
   "execution_count": 83,
   "metadata": {},
   "outputs": [
    {
     "name": "stdout",
     "output_type": "stream",
     "text": [
      "mean_squared_error_score: 2409063725.3396773\n"
     ]
    }
   ],
   "source": [
    "svc = SVC(C=2.0, cache_size=200, class_weight=None, coef0=0.0,\n",
    "    decision_function_shape='ovr', degree=3, gamma='auto', kernel='rbf',\n",
    "    max_iter=-1, probability=False, random_state=None, shrinking=True,\n",
    "    tol=0.001, verbose=False)\n",
    "svc.fit(train_features, train_target)\n",
    "SVC_predictions = svc.predict(test_features)\n",
    "print('mean_squared_error_score: {}'.format(mean_squared_error(test_target, SVC_predictions)))"
   ]
  },
  {
   "cell_type": "code",
   "execution_count": 58,
   "metadata": {},
   "outputs": [
    {
     "data": {
      "text/plain": [
       "Text(0, 0.5, 'Плотность')"
      ]
     },
     "execution_count": 58,
     "metadata": {},
     "output_type": "execute_result"
    },
    {
     "data": {
      "image/png": "[encoded data removed]",
      "text/plain": [
       "<Figure size 1440x504 with 1 Axes>"
      ]
     },
     "metadata": {
      "needs_background": "light"
     },
     "output_type": "display_data"
    }
   ],
   "source": [
    "plt.figure(figsize=(20,7))\n",
    "sns.distplot(test_target, color='indigo', kde_kws={\"label\" : \"Истинное значение\"})\n",
    "sns.distplot(SVC_predictions, color='cyan', kde_kws={\"label\" : \"Предсказание SVC\"})\n",
    "plt.title(\"Сравнение предсказания SVC с истинным значением\")\n",
    "plt.ylabel(\"Плотность\")"
   ]
  },
  {
   "cell_type": "code",
   "execution_count": 86,
   "metadata": {
    "scrolled": false
   },
   "outputs": [
    {
     "name": "stdout",
     "output_type": "stream",
     "text": [
      "Best score neg_mean_squared_error -1422630807.9239829\n",
      "mean_squared_error_score: 4709860972.158521\n"
     ]
    }
   ],
   "source": [
    "from sklearn.linear_model import Lasso\n",
    "lasso_regressor = Lasso()\n",
    "lasso_regressor.fit(train_features, train_target)\n",
    "\n",
    "gs = GridSearchCV(lasso_regressor, {'alpha' : [0.00001, 2, 0.001]}, scoring = 'neg_mean_squared_error', cv = 5)\n",
    "gs.fit(train_features, train_target)\n",
    "lasso_predictions = lasso_regressor.predict(test_features)\n",
    "print(\"Best score neg_mean_squared_error\", gs.best_score_)\n",
    "print('mean_squared_error_score: {}'.format(mean_squared_error(test_target, lasso_predictions)))"
   ]
  },
  {
   "cell_type": "code",
   "execution_count": 87,
   "metadata": {},
   "outputs": [
    {
     "data": {
      "text/plain": [
       "Text(0, 0.5, 'Плотность')"
      ]
     },
     "execution_count": 87,
     "metadata": {},
     "output_type": "execute_result"
    },
    {
     "data": {
      "image/png": "[encoded data removed]",
      "text/plain": [
       "<Figure size 1440x504 with 1 Axes>"
      ]
     },
     "metadata": {
      "needs_background": "light"
     },
     "output_type": "display_data"
    }
   ],
   "source": [
    "plt.figure(figsize=(20,7))\n",
    "sns.distplot(test_target, color='indigo', kde_kws={\"label\" : \"Истинное значение\"})\n",
    "sns.distplot(lasso_predictions, color='aquamarine', kde_kws={\"label\" : \"Предсказание Lasso\"})\n",
    "plt.title(\"Сравнение предсказания Lasso с истинным значением\")\n",
    "plt.ylabel(\"Плотность\")"
   ]
  },
  {
   "cell_type": "code",
   "execution_count": null,
   "metadata": {},
   "outputs": [],
   "source": []
  }
 ],
 "metadata": {
  "kernelspec": {
   "display_name": "Python 3",
   "language": "python",
   "name": "python3"
  },
  "language_info": {
   "codemirror_mode": {
    "name": "ipython",
    "version": 3
   },
   "file_extension": ".py",
   "mimetype": "text/x-python",
   "name": "python",
   "nbconvert_exporter": "python",
   "pygments_lexer": "ipython3",
   "version": "3.7.3"
  }
 },
 "nbformat": 4,
 "nbformat_minor": 2
}
