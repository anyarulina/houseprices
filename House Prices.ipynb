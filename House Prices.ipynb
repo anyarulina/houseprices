{
 "cells": [
  {
   "cell_type": "markdown",
   "metadata": {},
   "source": [
    "Задание [House Prices: Advanced Regression Techniques](https://www.kaggle.com/c/house-prices-advanced-regression-techniques), цель - предказать цену дома"
   ]
  },
  {
   "cell_type": "code",
   "execution_count": 1,
   "metadata": {},
   "outputs": [],
   "source": [
    "import numpy as np\n",
    "from matplotlib import pyplot as plt\n",
    "import pandas as pd\n",
    "import seaborn as sns\n",
    "%matplotlib inline"
   ]
  },
  {
   "cell_type": "markdown",
   "metadata": {},
   "source": [
    "#### Чтение данных"
   ]
  },
  {
   "cell_type": "code",
   "execution_count": 2,
   "metadata": {},
   "outputs": [],
   "source": [
    "train = pd.read_csv('./resources/train.csv') \n",
    "test = pd.read_csv('./resources/test.csv') \n",
    "test_target = pd.read_csv('./resources/sample_submission.csv') # целевая переменная из test\n",
    "train_target = train['SalePrice']  # целевая переменная из train\n",
    "#train_target = train_target.to_frame(name='SalePrice')"
   ]
  },
  {
   "cell_type": "code",
   "execution_count": 3,
   "metadata": {},
   "outputs": [],
   "source": [
    "del train['SalePrice']"
   ]
  },
  {
   "cell_type": "code",
   "execution_count": 4,
   "metadata": {},
   "outputs": [],
   "source": [
    "all_data = train.append(test) "
   ]
  },
  {
   "cell_type": "code",
   "execution_count": 5,
   "metadata": {},
   "outputs": [
    {
     "data": {
      "text/html": [
       "<div>\n",
       "<style scoped>\n",
       "    .dataframe tbody tr th:only-of-type {\n",
       "        vertical-align: middle;\n",
       "    }\n",
       "\n",
       "    .dataframe tbody tr th {\n",
       "        vertical-align: top;\n",
       "    }\n",
       "\n",
       "    .dataframe thead th {\n",
       "        text-align: right;\n",
       "    }\n",
       "</style>\n",
       "<table border=\"1\" class=\"dataframe\">\n",
       "  <thead>\n",
       "    <tr style=\"text-align: right;\">\n",
       "      <th></th>\n",
       "      <th>Id</th>\n",
       "      <th>MSSubClass</th>\n",
       "      <th>MSZoning</th>\n",
       "      <th>LotFrontage</th>\n",
       "      <th>LotArea</th>\n",
       "      <th>Street</th>\n",
       "      <th>Alley</th>\n",
       "      <th>LotShape</th>\n",
       "      <th>LandContour</th>\n",
       "      <th>Utilities</th>\n",
       "      <th>...</th>\n",
       "      <th>ScreenPorch</th>\n",
       "      <th>PoolArea</th>\n",
       "      <th>PoolQC</th>\n",
       "      <th>Fence</th>\n",
       "      <th>MiscFeature</th>\n",
       "      <th>MiscVal</th>\n",
       "      <th>MoSold</th>\n",
       "      <th>YrSold</th>\n",
       "      <th>SaleType</th>\n",
       "      <th>SaleCondition</th>\n",
       "    </tr>\n",
       "  </thead>\n",
       "  <tbody>\n",
       "    <tr>\n",
       "      <th>201</th>\n",
       "      <td>1662</td>\n",
       "      <td>60</td>\n",
       "      <td>RL</td>\n",
       "      <td>95.0</td>\n",
       "      <td>12350</td>\n",
       "      <td>Pave</td>\n",
       "      <td>NaN</td>\n",
       "      <td>Reg</td>\n",
       "      <td>Lvl</td>\n",
       "      <td>AllPub</td>\n",
       "      <td>...</td>\n",
       "      <td>0</td>\n",
       "      <td>0</td>\n",
       "      <td>NaN</td>\n",
       "      <td>NaN</td>\n",
       "      <td>NaN</td>\n",
       "      <td>0</td>\n",
       "      <td>7</td>\n",
       "      <td>2009</td>\n",
       "      <td>New</td>\n",
       "      <td>Partial</td>\n",
       "    </tr>\n",
       "    <tr>\n",
       "      <th>989</th>\n",
       "      <td>990</td>\n",
       "      <td>60</td>\n",
       "      <td>FV</td>\n",
       "      <td>65.0</td>\n",
       "      <td>8125</td>\n",
       "      <td>Pave</td>\n",
       "      <td>NaN</td>\n",
       "      <td>Reg</td>\n",
       "      <td>Lvl</td>\n",
       "      <td>AllPub</td>\n",
       "      <td>...</td>\n",
       "      <td>0</td>\n",
       "      <td>0</td>\n",
       "      <td>NaN</td>\n",
       "      <td>NaN</td>\n",
       "      <td>NaN</td>\n",
       "      <td>0</td>\n",
       "      <td>8</td>\n",
       "      <td>2006</td>\n",
       "      <td>New</td>\n",
       "      <td>Partial</td>\n",
       "    </tr>\n",
       "    <tr>\n",
       "      <th>1247</th>\n",
       "      <td>1248</td>\n",
       "      <td>80</td>\n",
       "      <td>RL</td>\n",
       "      <td>NaN</td>\n",
       "      <td>12328</td>\n",
       "      <td>Pave</td>\n",
       "      <td>NaN</td>\n",
       "      <td>IR1</td>\n",
       "      <td>Lvl</td>\n",
       "      <td>AllPub</td>\n",
       "      <td>...</td>\n",
       "      <td>0</td>\n",
       "      <td>0</td>\n",
       "      <td>NaN</td>\n",
       "      <td>NaN</td>\n",
       "      <td>NaN</td>\n",
       "      <td>0</td>\n",
       "      <td>5</td>\n",
       "      <td>2010</td>\n",
       "      <td>WD</td>\n",
       "      <td>Normal</td>\n",
       "    </tr>\n",
       "    <tr>\n",
       "      <th>1357</th>\n",
       "      <td>2818</td>\n",
       "      <td>85</td>\n",
       "      <td>RL</td>\n",
       "      <td>72.0</td>\n",
       "      <td>10820</td>\n",
       "      <td>Pave</td>\n",
       "      <td>NaN</td>\n",
       "      <td>Reg</td>\n",
       "      <td>Lvl</td>\n",
       "      <td>AllPub</td>\n",
       "      <td>...</td>\n",
       "      <td>0</td>\n",
       "      <td>0</td>\n",
       "      <td>NaN</td>\n",
       "      <td>MnPrv</td>\n",
       "      <td>NaN</td>\n",
       "      <td>0</td>\n",
       "      <td>6</td>\n",
       "      <td>2006</td>\n",
       "      <td>WD</td>\n",
       "      <td>Normal</td>\n",
       "    </tr>\n",
       "    <tr>\n",
       "      <th>484</th>\n",
       "      <td>485</td>\n",
       "      <td>20</td>\n",
       "      <td>RL</td>\n",
       "      <td>NaN</td>\n",
       "      <td>7758</td>\n",
       "      <td>Pave</td>\n",
       "      <td>NaN</td>\n",
       "      <td>IR1</td>\n",
       "      <td>Lvl</td>\n",
       "      <td>AllPub</td>\n",
       "      <td>...</td>\n",
       "      <td>0</td>\n",
       "      <td>0</td>\n",
       "      <td>NaN</td>\n",
       "      <td>NaN</td>\n",
       "      <td>NaN</td>\n",
       "      <td>0</td>\n",
       "      <td>3</td>\n",
       "      <td>2007</td>\n",
       "      <td>WD</td>\n",
       "      <td>Normal</td>\n",
       "    </tr>\n",
       "  </tbody>\n",
       "</table>\n",
       "<p>5 rows × 80 columns</p>\n",
       "</div>"
      ],
      "text/plain": [
       "        Id  MSSubClass MSZoning  LotFrontage  LotArea Street Alley LotShape  \\\n",
       "201   1662          60       RL         95.0    12350   Pave   NaN      Reg   \n",
       "989    990          60       FV         65.0     8125   Pave   NaN      Reg   \n",
       "1247  1248          80       RL          NaN    12328   Pave   NaN      IR1   \n",
       "1357  2818          85       RL         72.0    10820   Pave   NaN      Reg   \n",
       "484    485          20       RL          NaN     7758   Pave   NaN      IR1   \n",
       "\n",
       "     LandContour Utilities  ... ScreenPorch PoolArea PoolQC  Fence  \\\n",
       "201          Lvl    AllPub  ...           0        0    NaN    NaN   \n",
       "989          Lvl    AllPub  ...           0        0    NaN    NaN   \n",
       "1247         Lvl    AllPub  ...           0        0    NaN    NaN   \n",
       "1357         Lvl    AllPub  ...           0        0    NaN  MnPrv   \n",
       "484          Lvl    AllPub  ...           0        0    NaN    NaN   \n",
       "\n",
       "     MiscFeature MiscVal MoSold  YrSold  SaleType  SaleCondition  \n",
       "201          NaN       0      7    2009       New        Partial  \n",
       "989          NaN       0      8    2006       New        Partial  \n",
       "1247         NaN       0      5    2010        WD         Normal  \n",
       "1357         NaN       0      6    2006        WD         Normal  \n",
       "484          NaN       0      3    2007        WD         Normal  \n",
       "\n",
       "[5 rows x 80 columns]"
      ]
     },
     "execution_count": 5,
     "metadata": {},
     "output_type": "execute_result"
    }
   ],
   "source": [
    "all_data.sample(n=5)"
   ]
  },
  {
   "cell_type": "code",
   "execution_count": 6,
   "metadata": {},
   "outputs": [
    {
     "name": "stdout",
     "output_type": "stream",
     "text": [
      "(1460, 80) <class 'pandas.core.frame.DataFrame'>\n",
      "(1459, 80) <class 'pandas.core.frame.DataFrame'>\n",
      "(1460,) <class 'pandas.core.series.Series'>\n",
      "(1459, 2) <class 'pandas.core.frame.DataFrame'>\n",
      "(2919, 80) <class 'pandas.core.frame.DataFrame'>\n"
     ]
    }
   ],
   "source": [
    "for i in [train, test, train_target, test_target, all_data]:\n",
    "    print(i.shape, type(i))"
   ]
  },
  {
   "cell_type": "code",
   "execution_count": 7,
   "metadata": {},
   "outputs": [
    {
     "data": {
      "text/plain": [
       "Text(0, 0.5, 'Плотность')"
      ]
     },
     "execution_count": 7,
     "metadata": {},
     "output_type": "execute_result"
    },
    {
     "data": {
      "image/png": "[encoded data removed]",
      "text/plain": [
       "<Figure size 1440x504 with 1 Axes>"
      ]
     },
     "metadata": {
      "needs_background": "light"
     },
     "output_type": "display_data"
    }
   ],
   "source": [
    "plt.figure(figsize=(20,7))\n",
    "sns.distplot(train_target, color='indigo')\n",
    "plt.title(\"Распределение целевой переменной в train\")\n",
    "plt.ylabel(\"Плотность\")"
   ]
  },
  {
   "cell_type": "markdown",
   "metadata": {},
   "source": [
    "целевая переменная нормально распределена"
   ]
  },
  {
   "cell_type": "markdown",
   "metadata": {},
   "source": [
    "#### Пропущенные значения"
   ]
  },
  {
   "cell_type": "code",
   "execution_count": 8,
   "metadata": {},
   "outputs": [
    {
     "name": "stdout",
     "output_type": "stream",
     "text": [
      "All data #2919\n",
      "                  #          %\n",
      "PoolQC         2909  99.657417\n",
      "MiscFeature    2814  96.402878\n",
      "Alley          2721  93.216855\n",
      "Fence          2348  80.438506\n",
      "FireplaceQu    1420  48.646797\n",
      "LotFrontage     486  16.649538\n",
      "GarageYrBlt     159   5.447071\n",
      "GarageFinish    159   5.447071\n",
      "GarageQual      159   5.447071\n",
      "GarageCond      159   5.447071\n",
      "GarageType      157   5.378554\n",
      "BsmtExposure     82   2.809181\n",
      "BsmtCond         82   2.809181\n",
      "BsmtQual         81   2.774923\n",
      "BsmtFinType2     80   2.740665\n",
      "BsmtFinType1     79   2.706406\n",
      "MasVnrType       24   0.822199\n",
      "MasVnrArea       23   0.787941\n",
      "MSZoning          4   0.137033\n",
      "Functional        2   0.068517\n",
      "BsmtHalfBath      2   0.068517\n",
      "BsmtFullBath      2   0.068517\n",
      "Utilities         2   0.068517\n",
      "GarageCars        1   0.034258\n",
      "KitchenQual       1   0.034258\n",
      "BsmtFinSF1        1   0.034258\n",
      "SaleType          1   0.034258\n",
      "BsmtFinSF2        1   0.034258\n",
      "BsmtUnfSF         1   0.034258\n",
      "TotalBsmtSF       1   0.034258\n",
      "...             ...        ...\n",
      "HeatingQC         0   0.000000\n",
      "FullBath          0   0.000000\n",
      "OverallCond       0   0.000000\n",
      "LotArea           0   0.000000\n",
      "Street            0   0.000000\n",
      "LotShape          0   0.000000\n",
      "LandContour       0   0.000000\n",
      "LotConfig         0   0.000000\n",
      "LandSlope         0   0.000000\n",
      "Neighborhood      0   0.000000\n",
      "Condition1        0   0.000000\n",
      "Condition2        0   0.000000\n",
      "BldgType          0   0.000000\n",
      "HouseStyle        0   0.000000\n",
      "OverallQual       0   0.000000\n",
      "YearBuilt         0   0.000000\n",
      "GrLivArea         0   0.000000\n",
      "YearRemodAdd      0   0.000000\n",
      "RoofStyle         0   0.000000\n",
      "RoofMatl          0   0.000000\n",
      "ExterQual         0   0.000000\n",
      "ExterCond         0   0.000000\n",
      "Foundation        0   0.000000\n",
      "Heating           0   0.000000\n",
      "MSSubClass        0   0.000000\n",
      "CentralAir        0   0.000000\n",
      "1stFlrSF          0   0.000000\n",
      "2ndFlrSF          0   0.000000\n",
      "LowQualFinSF      0   0.000000\n",
      "SaleCondition     0   0.000000\n",
      "\n",
      "[80 rows x 2 columns]\n"
     ]
    }
   ],
   "source": [
    "def missing_values(df):\n",
    "    null_val = df.isnull().sum()\n",
    "    percent = 100 * df.isnull().sum()/len(df)\n",
    "    missing_table = pd.concat([null_val, percent], axis=1)\n",
    "    col = missing_table.rename(columns = {0 : '#', 1 : '%'})\n",
    "    return col\n",
    "\n",
    "print(\"All data #\"+str(len(all_data)))\n",
    "cols = missing_values(all_data)\n",
    "print(cols.sort_values(by=\"%\", ascending=False))"
   ]
  },
  {
   "cell_type": "code",
   "execution_count": 9,
   "metadata": {},
   "outputs": [],
   "source": [
    "# удаляем столбцы, где пропусков > 40%\n",
    "all_data.drop(['PoolQC', 'MiscFeature', 'Alley', 'Fence', 'FireplaceQu'], axis=1, inplace = True)"
   ]
  },
  {
   "cell_type": "markdown",
   "metadata": {},
   "source": [
    "#### Заполнение пропусков в категориальных признаках"
   ]
  },
  {
   "cell_type": "code",
   "execution_count": 10,
   "metadata": {},
   "outputs": [],
   "source": [
    "# названия столбцов с категориальными признаками\n",
    "categorical_columns = all_data.columns[all_data.dtypes == 'object']"
   ]
  },
  {
   "cell_type": "code",
   "execution_count": 11,
   "metadata": {},
   "outputs": [],
   "source": [
    "from sklearn.preprocessing import LabelEncoder\n",
    "label_encoder = LabelEncoder()\n",
    "\n",
    "for column in categorical_columns:\n",
    "    all_data[column] = all_data[column].fillna(all_data[column].mode()[0])\n",
    "    all_data[column] = label_encoder.fit_transform(all_data[column])[0]\n",
    "#    all_data[column] = pd.factorize(all_data[column])[0]"
   ]
  },
  {
   "cell_type": "markdown",
   "metadata": {},
   "source": [
    "####  Заполнение пропусков в числовых признаках"
   ]
  },
  {
   "cell_type": "code",
   "execution_count": 12,
   "metadata": {},
   "outputs": [],
   "source": [
    "# названия столбцов с числовыми признаками\n",
    "cont_columns = all_data.columns[all_data.dtypes != 'object']"
   ]
  },
  {
   "cell_type": "code",
   "execution_count": 13,
   "metadata": {},
   "outputs": [],
   "source": [
    "from sklearn.preprocessing import StandardScaler #для масштабирования признаков\n",
    "\n",
    "scaler = StandardScaler()\n",
    "for column in cont_columns:\n",
    "    all_data[column] = all_data[column].fillna(all_data[column].mean())\n",
    "    all_data[column] = scaler.fit_transform(all_data[[column]])"
   ]
  },
  {
   "cell_type": "code",
   "execution_count": 14,
   "metadata": {},
   "outputs": [
    {
     "data": {
      "text/html": [
       "<div>\n",
       "<style scoped>\n",
       "    .dataframe tbody tr th:only-of-type {\n",
       "        vertical-align: middle;\n",
       "    }\n",
       "\n",
       "    .dataframe tbody tr th {\n",
       "        vertical-align: top;\n",
       "    }\n",
       "\n",
       "    .dataframe thead th {\n",
       "        text-align: right;\n",
       "    }\n",
       "</style>\n",
       "<table border=\"1\" class=\"dataframe\">\n",
       "  <thead>\n",
       "    <tr style=\"text-align: right;\">\n",
       "      <th></th>\n",
       "      <th>Id</th>\n",
       "      <th>MSSubClass</th>\n",
       "      <th>MSZoning</th>\n",
       "      <th>LotFrontage</th>\n",
       "      <th>LotArea</th>\n",
       "      <th>Street</th>\n",
       "      <th>LotShape</th>\n",
       "      <th>LandContour</th>\n",
       "      <th>Utilities</th>\n",
       "      <th>LotConfig</th>\n",
       "      <th>...</th>\n",
       "      <th>OpenPorchSF</th>\n",
       "      <th>EnclosedPorch</th>\n",
       "      <th>3SsnPorch</th>\n",
       "      <th>ScreenPorch</th>\n",
       "      <th>PoolArea</th>\n",
       "      <th>MiscVal</th>\n",
       "      <th>MoSold</th>\n",
       "      <th>YrSold</th>\n",
       "      <th>SaleType</th>\n",
       "      <th>SaleCondition</th>\n",
       "    </tr>\n",
       "  </thead>\n",
       "  <tbody>\n",
       "    <tr>\n",
       "      <th>1332</th>\n",
       "      <td>1.581928</td>\n",
       "      <td>0.302568</td>\n",
       "      <td>0.0</td>\n",
       "      <td>-0.014351</td>\n",
       "      <td>0.198955</td>\n",
       "      <td>0.0</td>\n",
       "      <td>0.0</td>\n",
       "      <td>0.0</td>\n",
       "      <td>0.0</td>\n",
       "      <td>0.0</td>\n",
       "      <td>...</td>\n",
       "      <td>-0.170014</td>\n",
       "      <td>0.294266</td>\n",
       "      <td>-0.103331</td>\n",
       "      <td>-0.285935</td>\n",
       "      <td>-0.06315</td>\n",
       "      <td>-0.089592</td>\n",
       "      <td>-0.446925</td>\n",
       "      <td>-1.363569</td>\n",
       "      <td>0.0</td>\n",
       "      <td>0.0</td>\n",
       "    </tr>\n",
       "    <tr>\n",
       "      <th>336</th>\n",
       "      <td>0.399932</td>\n",
       "      <td>-0.167905</td>\n",
       "      <td>0.0</td>\n",
       "      <td>-0.436714</td>\n",
       "      <td>-0.266828</td>\n",
       "      <td>0.0</td>\n",
       "      <td>0.0</td>\n",
       "      <td>0.0</td>\n",
       "      <td>0.0</td>\n",
       "      <td>0.0</td>\n",
       "      <td>...</td>\n",
       "      <td>-0.702843</td>\n",
       "      <td>-0.359601</td>\n",
       "      <td>-0.103331</td>\n",
       "      <td>3.826233</td>\n",
       "      <td>-0.06315</td>\n",
       "      <td>-0.089592</td>\n",
       "      <td>2.132012</td>\n",
       "      <td>0.918253</td>\n",
       "      <td>0.0</td>\n",
       "      <td>0.0</td>\n",
       "    </tr>\n",
       "    <tr>\n",
       "      <th>1157</th>\n",
       "      <td>-0.358396</td>\n",
       "      <td>1.478753</td>\n",
       "      <td>0.0</td>\n",
       "      <td>-1.656873</td>\n",
       "      <td>-0.655256</td>\n",
       "      <td>0.0</td>\n",
       "      <td>0.0</td>\n",
       "      <td>0.0</td>\n",
       "      <td>0.0</td>\n",
       "      <td>0.0</td>\n",
       "      <td>...</td>\n",
       "      <td>0.214807</td>\n",
       "      <td>-0.359601</td>\n",
       "      <td>-0.103331</td>\n",
       "      <td>-0.285935</td>\n",
       "      <td>-0.06315</td>\n",
       "      <td>-0.089592</td>\n",
       "      <td>0.289914</td>\n",
       "      <td>0.918253</td>\n",
       "      <td>0.0</td>\n",
       "      <td>0.0</td>\n",
       "    </tr>\n",
       "    <tr>\n",
       "      <th>1028</th>\n",
       "      <td>1.221158</td>\n",
       "      <td>-0.873616</td>\n",
       "      <td>0.0</td>\n",
       "      <td>1.018092</td>\n",
       "      <td>0.153048</td>\n",
       "      <td>0.0</td>\n",
       "      <td>0.0</td>\n",
       "      <td>0.0</td>\n",
       "      <td>0.0</td>\n",
       "      <td>0.0</td>\n",
       "      <td>...</td>\n",
       "      <td>-0.702843</td>\n",
       "      <td>3.999513</td>\n",
       "      <td>-0.103331</td>\n",
       "      <td>-0.285935</td>\n",
       "      <td>-0.06315</td>\n",
       "      <td>-0.089592</td>\n",
       "      <td>1.395173</td>\n",
       "      <td>-0.602962</td>\n",
       "      <td>0.0</td>\n",
       "      <td>0.0</td>\n",
       "    </tr>\n",
       "    <tr>\n",
       "      <th>207</th>\n",
       "      <td>0.246842</td>\n",
       "      <td>-0.873616</td>\n",
       "      <td>0.0</td>\n",
       "      <td>0.830375</td>\n",
       "      <td>0.025221</td>\n",
       "      <td>0.0</td>\n",
       "      <td>0.0</td>\n",
       "      <td>0.0</td>\n",
       "      <td>0.0</td>\n",
       "      <td>0.0</td>\n",
       "      <td>...</td>\n",
       "      <td>-0.036807</td>\n",
       "      <td>-0.359601</td>\n",
       "      <td>-0.103331</td>\n",
       "      <td>-0.285935</td>\n",
       "      <td>-0.06315</td>\n",
       "      <td>-0.089592</td>\n",
       "      <td>-0.078505</td>\n",
       "      <td>0.918253</td>\n",
       "      <td>0.0</td>\n",
       "      <td>0.0</td>\n",
       "    </tr>\n",
       "  </tbody>\n",
       "</table>\n",
       "<p>5 rows × 75 columns</p>\n",
       "</div>"
      ],
      "text/plain": [
       "            Id  MSSubClass  MSZoning  LotFrontage   LotArea  Street  LotShape  \\\n",
       "1332  1.581928    0.302568       0.0    -0.014351  0.198955     0.0       0.0   \n",
       "336   0.399932   -0.167905       0.0    -0.436714 -0.266828     0.0       0.0   \n",
       "1157 -0.358396    1.478753       0.0    -1.656873 -0.655256     0.0       0.0   \n",
       "1028  1.221158   -0.873616       0.0     1.018092  0.153048     0.0       0.0   \n",
       "207   0.246842   -0.873616       0.0     0.830375  0.025221     0.0       0.0   \n",
       "\n",
       "      LandContour  Utilities  LotConfig  ...  OpenPorchSF  EnclosedPorch  \\\n",
       "1332          0.0        0.0        0.0  ...    -0.170014       0.294266   \n",
       "336           0.0        0.0        0.0  ...    -0.702843      -0.359601   \n",
       "1157          0.0        0.0        0.0  ...     0.214807      -0.359601   \n",
       "1028          0.0        0.0        0.0  ...    -0.702843       3.999513   \n",
       "207           0.0        0.0        0.0  ...    -0.036807      -0.359601   \n",
       "\n",
       "      3SsnPorch  ScreenPorch  PoolArea   MiscVal    MoSold    YrSold  \\\n",
       "1332  -0.103331    -0.285935  -0.06315 -0.089592 -0.446925 -1.363569   \n",
       "336   -0.103331     3.826233  -0.06315 -0.089592  2.132012  0.918253   \n",
       "1157  -0.103331    -0.285935  -0.06315 -0.089592  0.289914  0.918253   \n",
       "1028  -0.103331    -0.285935  -0.06315 -0.089592  1.395173 -0.602962   \n",
       "207   -0.103331    -0.285935  -0.06315 -0.089592 -0.078505  0.918253   \n",
       "\n",
       "      SaleType  SaleCondition  \n",
       "1332       0.0            0.0  \n",
       "336        0.0            0.0  \n",
       "1157       0.0            0.0  \n",
       "1028       0.0            0.0  \n",
       "207        0.0            0.0  \n",
       "\n",
       "[5 rows x 75 columns]"
      ]
     },
     "execution_count": 14,
     "metadata": {},
     "output_type": "execute_result"
    }
   ],
   "source": [
    "all_data.sample(n=5)"
   ]
  },
  {
   "cell_type": "code",
   "execution_count": 15,
   "metadata": {},
   "outputs": [
    {
     "data": {
      "text/plain": [
       "(2919, 75)"
      ]
     },
     "execution_count": 15,
     "metadata": {},
     "output_type": "execute_result"
    }
   ],
   "source": [
    "all_data.shape"
   ]
  },
  {
   "cell_type": "code",
   "execution_count": 16,
   "metadata": {},
   "outputs": [],
   "source": [
    "train = all_data[:1460]\n",
    "test  = all_data[1460:]"
   ]
  },
  {
   "cell_type": "markdown",
   "metadata": {},
   "source": [
    "#### Выбираем признаки для обучения"
   ]
  },
  {
   "cell_type": "code",
   "execution_count": 17,
   "metadata": {},
   "outputs": [
    {
     "name": "stdout",
     "output_type": "stream",
     "text": [
      "Важность признаков:\n",
      "nan SaleCondition\n",
      "nan HeatingQC\n",
      "nan Foundation\n",
      "nan BsmtQual\n",
      "nan BsmtCond\n",
      "nan BsmtExposure\n",
      "nan BsmtFinType1\n",
      "nan BsmtFinType2\n",
      "nan Heating\n",
      "nan CentralAir\n",
      "nan SaleType\n",
      "nan Electrical\n",
      "nan KitchenQual\n",
      "nan Functional\n",
      "nan SaleType\n",
      "nan GarageFinish\n",
      "nan GarageQual\n",
      "nan GarageCond\n",
      "nan ExterCond\n",
      "nan ExterQual\n",
      "nan MasVnrType\n",
      "nan Exterior2nd\n",
      "nan MSZoning\n",
      "nan Street\n",
      "nan LotShape\n",
      "nan LandContour\n",
      "nan Utilities\n",
      "nan LotConfig\n",
      "nan LandSlope\n",
      "nan Neighborhood\n",
      "nan Condition1\n",
      "nan Condition2\n",
      "nan BldgType\n",
      "nan HouseStyle\n",
      "nan RoofStyle\n",
      "nan RoofMatl\n",
      "nan Exterior1st\n",
      "nan PavedDrive\n",
      "nan GarageType\n",
      "nan SaleCondition\n",
      "nan KitchenQual\n",
      "nan CentralAir\n",
      "nan HeatingQC\n",
      "nan BsmtFinType2\n",
      "nan Neighborhood\n",
      "nan Condition1\n",
      "nan Condition2\n",
      "nan BldgType\n",
      "nan HouseStyle\n",
      "nan RoofStyle\n",
      "nan RoofMatl\n",
      "nan Exterior1st\n",
      "nan Exterior2nd\n",
      "nan MasVnrType\n",
      "nan ExterQual\n",
      "nan ExterCond\n",
      "nan Foundation\n",
      "nan BsmtQual\n",
      "nan BsmtCond\n",
      "nan BsmtExposure\n",
      "nan Electrical\n",
      "nan Heating\n",
      "nan LandSlope\n",
      "nan LandContour\n",
      "nan PavedDrive\n",
      "nan GarageCond\n",
      "nan GarageQual\n",
      "nan GarageFinish\n",
      "nan GarageType\n",
      "nan Functional\n",
      "nan MSZoning\n",
      "nan Street\n",
      "nan LotShape\n",
      "nan BsmtFinType1\n",
      "nan Utilities\n",
      "nan LotConfig\n",
      "113.87 OverallQual\n",
      "68.38 MiscVal\n",
      "59.99 GrLivArea\n",
      "56.00 LotArea\n",
      "44.38 GarageCars\n",
      "39.28 FullBath\n",
      "36.59 GarageArea\n",
      "29.69 1stFlrSF\n",
      "29.03 TotalBsmtSF\n",
      "28.89 YearBuilt\n",
      "19.93 MasVnrArea\n",
      "16.84 TotRmsAbvGrd\n",
      "15.64 YearRemodAdd\n",
      "15.25 GarageYrBlt\n",
      "12.24 BsmtFinSF1\n",
      "11.48 2ndFlrSF\n",
      "10.91 Fireplaces\n",
      "6.66 BsmtUnfSF\n",
      "6.02 OpenPorchSF\n",
      "5.85 HalfBath\n",
      "5.13 WoodDeckSF\n",
      "2.67 BedroomAbvGr\n",
      "2.30 LotFrontage\n",
      "1.36 BsmtFullBath\n",
      "1.04 OverallCond\n",
      "0.74 YrSold\n",
      "0.30 ScreenPorch\n",
      "0.27 BsmtFinSF2\n",
      "0.23 PoolArea\n",
      "0.12 MoSold\n",
      "0.08 Id\n",
      "0.02 3SsnPorch\n",
      "0.02 KitchenAbvGr\n",
      "0.02 MSSubClass\n",
      "0.01 LowQualFinSF\n",
      "0.01 BsmtHalfBath\n",
      "0.00 EnclosedPorch\n"
     ]
    }
   ],
   "source": [
    "from sklearn.feature_selection import SelectKBest, f_classif\n",
    "\n",
    "all_features = cont_columns.append(categorical_columns)\n",
    "\n",
    "selector = SelectKBest(f_classif, len(all_features))\n",
    "selector.fit(train[all_features], train_target)\n",
    "scores = -np.log10(selector.pvalues_)\n",
    "indices = np.argsort(scores)[::-1]\n",
    "\n",
    "print('Важность признаков:')\n",
    "for i in range(len(scores)):\n",
    "    print('%.2f %s' % (scores[indices[i]], all_features[indices[i]]))\n",
    "\n"
   ]
  },
  {
   "cell_type": "code",
   "execution_count": 18,
   "metadata": {},
   "outputs": [],
   "source": [
    "fparams = \\\n",
    "    ['OverallQual', 'MiscVal', 'GrLivArea', 'LotArea', 'GarageCars', \n",
    "     'FullBath', 'ExterQual', 'GarageArea', '1stFlrSF', 'TotalBsmtSF', \n",
    "     'YearBuilt', 'Foundation', 'KitchenQual', 'MasVnrArea', 'BsmtQual', \n",
    "     'TotRmsAbvGrd', 'Street', 'YearRemodAdd', 'GarageYrBlt', 'BsmtFinSF1', \n",
    "     '2ndFlrSF', 'Fireplaces', 'Heating', 'CentralAir', 'LotShape', \n",
    "     'SaleCondition', 'BsmtUnfSF', 'OpenPorchSF', 'GarageFinish', 'HalfBath', \n",
    "     'WoodDeckSF', 'HeatingQC', 'BsmtExposure', 'LandContour', 'Exterior2nd', \n",
    "     'MSZoning', 'BedroomAbvGr', 'MasVnrType', 'BsmtFinType1', 'LotFrontage', \n",
    "     'Neighborhood', 'Electrical', 'LandSlope', 'SaleType', 'BsmtFullBath', \n",
    "     'Exterior1st', 'OverallCond', 'YrSold', 'BsmtCond', 'GarageType', \n",
    "     'LotConfig', 'ScreenPorch', 'BsmtFinSF2', 'GarageQual', 'PoolArea', \n",
    "     'Condition2', 'MoSold', 'BldgType']\n",
    "\n",
    "train_features = train[fparams].values\n",
    "test_features  = test[fparams].values\n",
    "train_target = train_target.values\n",
    "test_target = test_target.values"
   ]
  },
  {
   "cell_type": "code",
   "execution_count": 20,
   "metadata": {},
   "outputs": [],
   "source": [
    "import warnings\n",
    "warnings.filterwarnings('ignore')"
   ]
  },
  {
   "cell_type": "code",
   "execution_count": 21,
   "metadata": {},
   "outputs": [
    {
     "name": "stdout",
     "output_type": "stream",
     "text": [
      "Наилучший набор параметров модели SVC(C=2.0, cache_size=200, class_weight=None, coef0=0.0,\n",
      "    decision_function_shape='ovr', degree=3, gamma='auto', kernel='rbf',\n",
      "    max_iter=-1, probability=False, random_state=None, shrinking=True,\n",
      "    tol=0.001, verbose=False) со значением метрики neg_mean_squared_error -2325070939.2726026\n"
     ]
    }
   ],
   "source": [
    "from sklearn.svm import SVC\n",
    "from sklearn.model_selection import GridSearchCV\n",
    "from sklearn.metrics import mean_squared_error \n",
    "\n",
    "params = [{'C'      : [0.1, 1.0, 2.0]},\n",
    "          {'kernel' : ['linear', 'poly', 'rbf']},\n",
    "          {'degree' : [1, 2, 3]},\n",
    "          {'gamma'  : ['auto', 'scale']} ]\n",
    "\n",
    "gs = GridSearchCV(SVC(gamma = 'auto'), param_grid = params, scoring = 'neg_mean_squared_error', cv = 5)\n",
    "gs.fit(train_features, train_target)\n",
    "\n",
    "print('Наилучший набор параметров модели', gs.best_estimator_, 'со значением метрики neg_mean_squared_error', gs.best_score_)           "
   ]
  },
  {
   "cell_type": "code",
   "execution_count": 22,
   "metadata": {},
   "outputs": [],
   "source": [
    "svc = SVC(C=2.0, cache_size=200, class_weight=None, coef0=0.0,\n",
    "    decision_function_shape='ovr', degree=3, gamma='auto', kernel='rbf',\n",
    "    max_iter=-1, probability=False, random_state=None, shrinking=True,\n",
    "    tol=0.001, verbose=False)\n",
    "svc.fit(train_features, train_target)\n",
    "SVC_predictions = svc.predict(test_features)"
   ]
  },
  {
   "cell_type": "code",
   "execution_count": 23,
   "metadata": {},
   "outputs": [
    {
     "data": {
      "text/plain": [
       "Text(0, 0.5, 'Плотность')"
      ]
     },
     "execution_count": 23,
     "metadata": {},
     "output_type": "execute_result"
    },
    {
     "data": {
      "image/png": "[encoded data removed]",
      "text/plain": [
       "<Figure size 1440x504 with 1 Axes>"
      ]
     },
     "metadata": {
      "needs_background": "light"
     },
     "output_type": "display_data"
    }
   ],
   "source": [
    "plt.figure(figsize=(20,7))\n",
    "sns.distplot(train_target, color='indigo', kde_kws={\"label\" : \"Истинное значение\"})\n",
    "sns.distplot(SVC_predictions, color='cyan', kde_kws={\"label\" : \"Предсказание SVC\"})\n",
    "plt.title(\"Сравнение предсказания SVC с истинным значением\")\n",
    "plt.ylabel(\"Плотность\")"
   ]
  },
  {
   "cell_type": "markdown",
   "metadata": {},
   "source": [
    "Модель получилась не слишком успешной :)\n",
    "\n",
    "Попробуем Lasso регрессию"
   ]
  },
  {
   "cell_type": "code",
   "execution_count": 24,
   "metadata": {
    "scrolled": false
   },
   "outputs": [
    {
     "name": "stdout",
     "output_type": "stream",
     "text": [
      "Best score -1422630807.9239829\n"
     ]
    }
   ],
   "source": [
    "from sklearn.linear_model import Lasso\n",
    "lasso_regressor = Lasso()\n",
    "lasso_regressor.fit(train_features, train_target)\n",
    "\n",
    "gs = GridSearchCV(lasso_regressor, {'alpha' : [0.00001, 2, 0.001]}, scoring = 'neg_mean_squared_error', cv = 5)\n",
    "gs.fit(train_features, train_target)\n",
    "lasso_predictions = lasso_regressor.predict(test_features)\n",
    "print(\"Best score\", gs.best_score_)"
   ]
  },
  {
   "cell_type": "code",
   "execution_count": 25,
   "metadata": {},
   "outputs": [
    {
     "data": {
      "text/plain": [
       "Text(0, 0.5, 'Плотность')"
      ]
     },
     "execution_count": 25,
     "metadata": {},
     "output_type": "execute_result"
    },
    {
     "data": {
      "image/png": "[encoded data removed]",
      "text/plain": [
       "<Figure size 1440x504 with 1 Axes>"
      ]
     },
     "metadata": {
      "needs_background": "light"
     },
     "output_type": "display_data"
    }
   ],
   "source": [
    "plt.figure(figsize=(20,7))\n",
    "sns.distplot(train_target, color='indigo', kde_kws={\"label\" : \"Истинное значение\"})\n",
    "sns.distplot(lasso_predictions, color='aquamarine', kde_kws={\"label\" : \"Предсказание Lasso\"})\n",
    "plt.title(\"Сравнение предсказания Lasso с истинным значением\")\n",
    "plt.ylabel(\"Плотность\")"
   ]
  },
  {
   "cell_type": "markdown",
   "metadata": {},
   "source": [
    "Lasso регрессия для данного предсказания сработала лучше"
   ]
  },
  {
   "cell_type": "code",
   "execution_count": null,
   "metadata": {},
   "outputs": [],
   "source": []
  }
 ],
 "metadata": {
  "kernelspec": {
   "display_name": "Python 3",
   "language": "python",
   "name": "python3"
  },
  "language_info": {
   "codemirror_mode": {
    "name": "ipython",
    "version": 3
   },
   "file_extension": ".py",
   "mimetype": "text/x-python",
   "name": "python",
   "nbconvert_exporter": "python",
   "pygments_lexer": "ipython3",
   "version": "3.7.3"
  }
 },
 "nbformat": 4,
 "nbformat_minor": 2
}
