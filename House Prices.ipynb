{
 "cells": [
  {
   "cell_type": "markdown",
   "metadata": {},
   "source": [
    "Задание [House Prices: Advanced Regression Techniques](https://www.kaggle.com/c/house-prices-advanced-regression-techniques), цель - предказать цену дома"
   ]
  },
  {
   "cell_type": "code",
   "execution_count": null,
   "metadata": {},
   "outputs": [],
   "source": [
    "import numpy as np\n",
    "from matplotlib import pyplot as plt\n",
    "import pandas as pd\n",
    "%matplotlib inline"
   ]
  },
  {
   "cell_type": "markdown",
   "metadata": {},
   "source": [
    "#### Чтение данных"
   ]
  },
  {
   "cell_type": "code",
   "execution_count": 1067,
   "metadata": {},
   "outputs": [],
   "source": [
    "train = pd.read_csv('train.csv') \n",
    "test = pd.read_csv('test.csv') \n",
    "test_target = pd.read_csv('sample_submission.csv') # целевая переменная из test\n",
    "train_target = train['SalePrice']  # целевая переменная из train\n",
    "#train_target = train_target.to_frame(name='SalePrice')"
   ]
  },
  {
   "cell_type": "code",
   "execution_count": 1068,
   "metadata": {},
   "outputs": [],
   "source": [
    "del train['SalePrice']"
   ]
  },
  {
   "cell_type": "code",
   "execution_count": 1069,
   "metadata": {},
   "outputs": [],
   "source": [
    "all_data = train.append(test) "
   ]
  },
  {
   "cell_type": "code",
   "execution_count": 1070,
   "metadata": {},
   "outputs": [
    {
     "data": {
      "text/html": [
       "<div>\n",
       "<style scoped>\n",
       "    .dataframe tbody tr th:only-of-type {\n",
       "        vertical-align: middle;\n",
       "    }\n",
       "\n",
       "    .dataframe tbody tr th {\n",
       "        vertical-align: top;\n",
       "    }\n",
       "\n",
       "    .dataframe thead th {\n",
       "        text-align: right;\n",
       "    }\n",
       "</style>\n",
       "<table border=\"1\" class=\"dataframe\">\n",
       "  <thead>\n",
       "    <tr style=\"text-align: right;\">\n",
       "      <th></th>\n",
       "      <th>Id</th>\n",
       "      <th>MSSubClass</th>\n",
       "      <th>MSZoning</th>\n",
       "      <th>LotFrontage</th>\n",
       "      <th>LotArea</th>\n",
       "      <th>Street</th>\n",
       "      <th>Alley</th>\n",
       "      <th>LotShape</th>\n",
       "      <th>LandContour</th>\n",
       "      <th>Utilities</th>\n",
       "      <th>...</th>\n",
       "      <th>ScreenPorch</th>\n",
       "      <th>PoolArea</th>\n",
       "      <th>PoolQC</th>\n",
       "      <th>Fence</th>\n",
       "      <th>MiscFeature</th>\n",
       "      <th>MiscVal</th>\n",
       "      <th>MoSold</th>\n",
       "      <th>YrSold</th>\n",
       "      <th>SaleType</th>\n",
       "      <th>SaleCondition</th>\n",
       "    </tr>\n",
       "  </thead>\n",
       "  <tbody>\n",
       "    <tr>\n",
       "      <th>216</th>\n",
       "      <td>1677</td>\n",
       "      <td>120</td>\n",
       "      <td>RL</td>\n",
       "      <td>80.0</td>\n",
       "      <td>10307</td>\n",
       "      <td>Pave</td>\n",
       "      <td>NaN</td>\n",
       "      <td>IR1</td>\n",
       "      <td>Lvl</td>\n",
       "      <td>AllPub</td>\n",
       "      <td>...</td>\n",
       "      <td>0</td>\n",
       "      <td>0</td>\n",
       "      <td>NaN</td>\n",
       "      <td>NaN</td>\n",
       "      <td>NaN</td>\n",
       "      <td>0</td>\n",
       "      <td>5</td>\n",
       "      <td>2009</td>\n",
       "      <td>WD</td>\n",
       "      <td>Normal</td>\n",
       "    </tr>\n",
       "    <tr>\n",
       "      <th>1212</th>\n",
       "      <td>2673</td>\n",
       "      <td>120</td>\n",
       "      <td>RL</td>\n",
       "      <td>NaN</td>\n",
       "      <td>2938</td>\n",
       "      <td>Pave</td>\n",
       "      <td>NaN</td>\n",
       "      <td>Reg</td>\n",
       "      <td>Lvl</td>\n",
       "      <td>AllPub</td>\n",
       "      <td>...</td>\n",
       "      <td>0</td>\n",
       "      <td>0</td>\n",
       "      <td>NaN</td>\n",
       "      <td>NaN</td>\n",
       "      <td>NaN</td>\n",
       "      <td>0</td>\n",
       "      <td>5</td>\n",
       "      <td>2006</td>\n",
       "      <td>WD</td>\n",
       "      <td>Normal</td>\n",
       "    </tr>\n",
       "    <tr>\n",
       "      <th>1348</th>\n",
       "      <td>2809</td>\n",
       "      <td>80</td>\n",
       "      <td>RL</td>\n",
       "      <td>80.0</td>\n",
       "      <td>10366</td>\n",
       "      <td>Pave</td>\n",
       "      <td>NaN</td>\n",
       "      <td>IR1</td>\n",
       "      <td>Lvl</td>\n",
       "      <td>AllPub</td>\n",
       "      <td>...</td>\n",
       "      <td>0</td>\n",
       "      <td>0</td>\n",
       "      <td>NaN</td>\n",
       "      <td>GdPrv</td>\n",
       "      <td>Shed</td>\n",
       "      <td>500</td>\n",
       "      <td>7</td>\n",
       "      <td>2006</td>\n",
       "      <td>WD</td>\n",
       "      <td>Normal</td>\n",
       "    </tr>\n",
       "    <tr>\n",
       "      <th>21</th>\n",
       "      <td>22</td>\n",
       "      <td>45</td>\n",
       "      <td>RM</td>\n",
       "      <td>57.0</td>\n",
       "      <td>7449</td>\n",
       "      <td>Pave</td>\n",
       "      <td>Grvl</td>\n",
       "      <td>Reg</td>\n",
       "      <td>Bnk</td>\n",
       "      <td>AllPub</td>\n",
       "      <td>...</td>\n",
       "      <td>0</td>\n",
       "      <td>0</td>\n",
       "      <td>NaN</td>\n",
       "      <td>GdPrv</td>\n",
       "      <td>NaN</td>\n",
       "      <td>0</td>\n",
       "      <td>6</td>\n",
       "      <td>2007</td>\n",
       "      <td>WD</td>\n",
       "      <td>Normal</td>\n",
       "    </tr>\n",
       "    <tr>\n",
       "      <th>214</th>\n",
       "      <td>215</td>\n",
       "      <td>60</td>\n",
       "      <td>RL</td>\n",
       "      <td>NaN</td>\n",
       "      <td>10900</td>\n",
       "      <td>Pave</td>\n",
       "      <td>NaN</td>\n",
       "      <td>IR1</td>\n",
       "      <td>Lvl</td>\n",
       "      <td>AllPub</td>\n",
       "      <td>...</td>\n",
       "      <td>0</td>\n",
       "      <td>0</td>\n",
       "      <td>NaN</td>\n",
       "      <td>MnPrv</td>\n",
       "      <td>Shed</td>\n",
       "      <td>450</td>\n",
       "      <td>3</td>\n",
       "      <td>2010</td>\n",
       "      <td>WD</td>\n",
       "      <td>Normal</td>\n",
       "    </tr>\n",
       "  </tbody>\n",
       "</table>\n",
       "<p>5 rows × 80 columns</p>\n",
       "</div>"
      ],
      "text/plain": [
       "        Id  MSSubClass MSZoning  LotFrontage  LotArea Street Alley LotShape  \\\n",
       "216   1677         120       RL         80.0    10307   Pave   NaN      IR1   \n",
       "1212  2673         120       RL          NaN     2938   Pave   NaN      Reg   \n",
       "1348  2809          80       RL         80.0    10366   Pave   NaN      IR1   \n",
       "21      22          45       RM         57.0     7449   Pave  Grvl      Reg   \n",
       "214    215          60       RL          NaN    10900   Pave   NaN      IR1   \n",
       "\n",
       "     LandContour Utilities  ... ScreenPorch PoolArea PoolQC  Fence  \\\n",
       "216          Lvl    AllPub  ...           0        0    NaN    NaN   \n",
       "1212         Lvl    AllPub  ...           0        0    NaN    NaN   \n",
       "1348         Lvl    AllPub  ...           0        0    NaN  GdPrv   \n",
       "21           Bnk    AllPub  ...           0        0    NaN  GdPrv   \n",
       "214          Lvl    AllPub  ...           0        0    NaN  MnPrv   \n",
       "\n",
       "     MiscFeature MiscVal MoSold  YrSold  SaleType  SaleCondition  \n",
       "216          NaN       0      5    2009        WD         Normal  \n",
       "1212         NaN       0      5    2006        WD         Normal  \n",
       "1348        Shed     500      7    2006        WD         Normal  \n",
       "21           NaN       0      6    2007        WD         Normal  \n",
       "214         Shed     450      3    2010        WD         Normal  \n",
       "\n",
       "[5 rows x 80 columns]"
      ]
     },
     "execution_count": 1070,
     "metadata": {},
     "output_type": "execute_result"
    }
   ],
   "source": [
    "all_data.sample(n=5)"
   ]
  },
  {
   "cell_type": "code",
   "execution_count": 1071,
   "metadata": {},
   "outputs": [
    {
     "name": "stdout",
     "output_type": "stream",
     "text": [
      "(1460, 80) <class 'pandas.core.frame.DataFrame'>\n",
      "(1459, 80) <class 'pandas.core.frame.DataFrame'>\n",
      "(1460,) <class 'pandas.core.series.Series'>\n",
      "(1459, 2) <class 'pandas.core.frame.DataFrame'>\n",
      "(2919, 80) <class 'pandas.core.frame.DataFrame'>\n"
     ]
    }
   ],
   "source": [
    "for i in [train, test, train_target, test_target, all_data]:\n",
    "    print(i.shape, type(i))"
   ]
  },
  {
   "cell_type": "code",
   "execution_count": 1072,
   "metadata": {},
   "outputs": [
    {
     "data": {
      "text/plain": [
       "Text(0, 0.5, 'Плотность')"
      ]
     },
     "execution_count": 1072,
     "metadata": {},
     "output_type": "execute_result"
    },
    {
     "data": {
      "image/png": "[encoded data removed]",
      "text/plain": [
       "<Figure size 1440x504 with 1 Axes>"
      ]
     },
     "metadata": {
      "needs_background": "light"
     },
     "output_type": "display_data"
    }
   ],
   "source": [
    "plt.figure(figsize=(20,7))\n",
    "sns.distplot(train_target, color='indigo')\n",
    "plt.title(\"Распределение целевой переменной в train\")\n",
    "plt.ylabel(\"Плотность\")"
   ]
  },
  {
   "cell_type": "markdown",
   "metadata": {},
   "source": [
    "целевая переменная нормально распределена"
   ]
  },
  {
   "cell_type": "code",
   "execution_count": 1073,
   "metadata": {},
   "outputs": [
    {
     "ename": "ValueError",
     "evalue": "color kwarg must have one color per data set. 2 data sets and 1 colors were provided",
     "output_type": "error",
     "traceback": [
      "\u001b[0;31m---------------------------------------------------------------------------\u001b[0m",
      "\u001b[0;31mValueError\u001b[0m                                Traceback (most recent call last)",
      "\u001b[0;32m<ipython-input-1073-c91c9c2209f2>\u001b[0m in \u001b[0;36m<module>\u001b[0;34m\u001b[0m\n\u001b[1;32m      1\u001b[0m \u001b[0mplt\u001b[0m\u001b[0;34m.\u001b[0m\u001b[0mfigure\u001b[0m\u001b[0;34m(\u001b[0m\u001b[0mfigsize\u001b[0m\u001b[0;34m=\u001b[0m\u001b[0;34m(\u001b[0m\u001b[0;36m20\u001b[0m\u001b[0;34m,\u001b[0m\u001b[0;36m5\u001b[0m\u001b[0;34m)\u001b[0m\u001b[0;34m)\u001b[0m\u001b[0;34m\u001b[0m\u001b[0;34m\u001b[0m\u001b[0m\n\u001b[0;32m----> 2\u001b[0;31m \u001b[0msns\u001b[0m\u001b[0;34m.\u001b[0m\u001b[0mdistplot\u001b[0m\u001b[0;34m(\u001b[0m\u001b[0mtest_target\u001b[0m\u001b[0;34m,\u001b[0m \u001b[0mcolor\u001b[0m\u001b[0;34m=\u001b[0m\u001b[0;34m'maroon'\u001b[0m\u001b[0;34m)\u001b[0m\u001b[0;34m\u001b[0m\u001b[0;34m\u001b[0m\u001b[0m\n\u001b[0m\u001b[1;32m      3\u001b[0m \u001b[0mplt\u001b[0m\u001b[0;34m.\u001b[0m\u001b[0mtitle\u001b[0m\u001b[0;34m(\u001b[0m\u001b[0;34m\"Распределение целевой переменной в test\"\u001b[0m\u001b[0;34m)\u001b[0m\u001b[0;34m\u001b[0m\u001b[0;34m\u001b[0m\u001b[0m\n\u001b[1;32m      4\u001b[0m \u001b[0mplt\u001b[0m\u001b[0;34m.\u001b[0m\u001b[0mylabel\u001b[0m\u001b[0;34m(\u001b[0m\u001b[0;34m\"Плотность\"\u001b[0m\u001b[0;34m)\u001b[0m\u001b[0;34m\u001b[0m\u001b[0;34m\u001b[0m\u001b[0m\n",
      "\u001b[0;32m~/PRO/environments/py3mfti/lib/python3.7/site-packages/seaborn/distributions.py\u001b[0m in \u001b[0;36mdistplot\u001b[0;34m(a, bins, hist, kde, rug, fit, hist_kws, kde_kws, rug_kws, fit_kws, color, vertical, norm_hist, axlabel, label, ax)\u001b[0m\n\u001b[1;32m    223\u001b[0m         \u001b[0mhist_color\u001b[0m \u001b[0;34m=\u001b[0m \u001b[0mhist_kws\u001b[0m\u001b[0;34m.\u001b[0m\u001b[0mpop\u001b[0m\u001b[0;34m(\u001b[0m\u001b[0;34m\"color\"\u001b[0m\u001b[0;34m,\u001b[0m \u001b[0mcolor\u001b[0m\u001b[0;34m)\u001b[0m\u001b[0;34m\u001b[0m\u001b[0;34m\u001b[0m\u001b[0m\n\u001b[1;32m    224\u001b[0m         ax.hist(a, bins, orientation=orientation,\n\u001b[0;32m--> 225\u001b[0;31m                 color=hist_color, **hist_kws)\n\u001b[0m\u001b[1;32m    226\u001b[0m         \u001b[0;32mif\u001b[0m \u001b[0mhist_color\u001b[0m \u001b[0;34m!=\u001b[0m \u001b[0mcolor\u001b[0m\u001b[0;34m:\u001b[0m\u001b[0;34m\u001b[0m\u001b[0;34m\u001b[0m\u001b[0m\n\u001b[1;32m    227\u001b[0m             \u001b[0mhist_kws\u001b[0m\u001b[0;34m[\u001b[0m\u001b[0;34m\"color\"\u001b[0m\u001b[0;34m]\u001b[0m \u001b[0;34m=\u001b[0m \u001b[0mhist_color\u001b[0m\u001b[0;34m\u001b[0m\u001b[0;34m\u001b[0m\u001b[0m\n",
      "\u001b[0;32m~/PRO/environments/py3mfti/lib/python3.7/site-packages/matplotlib/__init__.py\u001b[0m in \u001b[0;36minner\u001b[0;34m(ax, data, *args, **kwargs)\u001b[0m\n\u001b[1;32m   1808\u001b[0m                         \u001b[0;34m\"the Matplotlib list!)\"\u001b[0m \u001b[0;34m%\u001b[0m \u001b[0;34m(\u001b[0m\u001b[0mlabel_namer\u001b[0m\u001b[0;34m,\u001b[0m \u001b[0mfunc\u001b[0m\u001b[0;34m.\u001b[0m\u001b[0m__name__\u001b[0m\u001b[0;34m)\u001b[0m\u001b[0;34m,\u001b[0m\u001b[0;34m\u001b[0m\u001b[0;34m\u001b[0m\u001b[0m\n\u001b[1;32m   1809\u001b[0m                         RuntimeWarning, stacklevel=2)\n\u001b[0;32m-> 1810\u001b[0;31m             \u001b[0;32mreturn\u001b[0m \u001b[0mfunc\u001b[0m\u001b[0;34m(\u001b[0m\u001b[0max\u001b[0m\u001b[0;34m,\u001b[0m \u001b[0;34m*\u001b[0m\u001b[0margs\u001b[0m\u001b[0;34m,\u001b[0m \u001b[0;34m**\u001b[0m\u001b[0mkwargs\u001b[0m\u001b[0;34m)\u001b[0m\u001b[0;34m\u001b[0m\u001b[0;34m\u001b[0m\u001b[0m\n\u001b[0m\u001b[1;32m   1811\u001b[0m \u001b[0;34m\u001b[0m\u001b[0m\n\u001b[1;32m   1812\u001b[0m         inner.__doc__ = _add_data_doc(inner.__doc__,\n",
      "\u001b[0;32m~/PRO/environments/py3mfti/lib/python3.7/site-packages/matplotlib/axes/_axes.py\u001b[0m in \u001b[0;36mhist\u001b[0;34m(self, x, bins, range, density, weights, cumulative, bottom, histtype, align, orientation, rwidth, log, color, label, stacked, normed, **kwargs)\u001b[0m\n\u001b[1;32m   6563\u001b[0m                     \u001b[0;34m\"color kwarg must have one color per data set. %d data \"\u001b[0m\u001b[0;34m\u001b[0m\u001b[0;34m\u001b[0m\u001b[0m\n\u001b[1;32m   6564\u001b[0m                     \"sets and %d colors were provided\" % (nx, len(color)))\n\u001b[0;32m-> 6565\u001b[0;31m                 \u001b[0;32mraise\u001b[0m \u001b[0mValueError\u001b[0m\u001b[0;34m(\u001b[0m\u001b[0merror_message\u001b[0m\u001b[0;34m)\u001b[0m\u001b[0;34m\u001b[0m\u001b[0;34m\u001b[0m\u001b[0m\n\u001b[0m\u001b[1;32m   6566\u001b[0m \u001b[0;34m\u001b[0m\u001b[0m\n\u001b[1;32m   6567\u001b[0m         \u001b[0;31m# If bins are not specified either explicitly or via range,\u001b[0m\u001b[0;34m\u001b[0m\u001b[0;34m\u001b[0m\u001b[0;34m\u001b[0m\u001b[0m\n",
      "\u001b[0;31mValueError\u001b[0m: color kwarg must have one color per data set. 2 data sets and 1 colors were provided"
     ]
    },
    {
     "data": {
      "image/png": "[encoded data removed]",
      "text/plain": [
       "<Figure size 1440x360 with 1 Axes>"
      ]
     },
     "metadata": {
      "needs_background": "light"
     },
     "output_type": "display_data"
    }
   ],
   "source": [
    "plt.figure(figsize=(20,5))\n",
    "sns.distplot(test_target, color='maroon')\n",
    "plt.title(\"Распределение целевой переменной в test\")\n",
    "plt.ylabel(\"Плотность\")"
   ]
  },
  {
   "cell_type": "markdown",
   "metadata": {},
   "source": [
    "#### Пропущенные значения"
   ]
  },
  {
   "cell_type": "code",
   "execution_count": 1074,
   "metadata": {},
   "outputs": [
    {
     "name": "stdout",
     "output_type": "stream",
     "text": [
      "All data #2919\n",
      "                  #          %\n",
      "PoolQC         2909  99.657417\n",
      "MiscFeature    2814  96.402878\n",
      "Alley          2721  93.216855\n",
      "Fence          2348  80.438506\n",
      "FireplaceQu    1420  48.646797\n",
      "LotFrontage     486  16.649538\n",
      "GarageYrBlt     159   5.447071\n",
      "GarageFinish    159   5.447071\n",
      "GarageQual      159   5.447071\n",
      "GarageCond      159   5.447071\n",
      "GarageType      157   5.378554\n",
      "BsmtExposure     82   2.809181\n",
      "BsmtCond         82   2.809181\n",
      "BsmtQual         81   2.774923\n",
      "BsmtFinType2     80   2.740665\n",
      "BsmtFinType1     79   2.706406\n",
      "MasVnrType       24   0.822199\n",
      "MasVnrArea       23   0.787941\n",
      "MSZoning          4   0.137033\n",
      "Functional        2   0.068517\n",
      "BsmtHalfBath      2   0.068517\n",
      "BsmtFullBath      2   0.068517\n",
      "Utilities         2   0.068517\n",
      "GarageCars        1   0.034258\n",
      "KitchenQual       1   0.034258\n",
      "BsmtFinSF1        1   0.034258\n",
      "SaleType          1   0.034258\n",
      "BsmtFinSF2        1   0.034258\n",
      "BsmtUnfSF         1   0.034258\n",
      "TotalBsmtSF       1   0.034258\n",
      "...             ...        ...\n",
      "HeatingQC         0   0.000000\n",
      "FullBath          0   0.000000\n",
      "OverallCond       0   0.000000\n",
      "LotArea           0   0.000000\n",
      "Street            0   0.000000\n",
      "LotShape          0   0.000000\n",
      "LandContour       0   0.000000\n",
      "LotConfig         0   0.000000\n",
      "LandSlope         0   0.000000\n",
      "Neighborhood      0   0.000000\n",
      "Condition1        0   0.000000\n",
      "Condition2        0   0.000000\n",
      "BldgType          0   0.000000\n",
      "HouseStyle        0   0.000000\n",
      "OverallQual       0   0.000000\n",
      "YearBuilt         0   0.000000\n",
      "GrLivArea         0   0.000000\n",
      "YearRemodAdd      0   0.000000\n",
      "RoofStyle         0   0.000000\n",
      "RoofMatl          0   0.000000\n",
      "ExterQual         0   0.000000\n",
      "ExterCond         0   0.000000\n",
      "Foundation        0   0.000000\n",
      "Heating           0   0.000000\n",
      "MSSubClass        0   0.000000\n",
      "CentralAir        0   0.000000\n",
      "1stFlrSF          0   0.000000\n",
      "2ndFlrSF          0   0.000000\n",
      "LowQualFinSF      0   0.000000\n",
      "SaleCondition     0   0.000000\n",
      "\n",
      "[80 rows x 2 columns]\n"
     ]
    }
   ],
   "source": [
    "def missing_values(df):\n",
    "    null_val = df.isnull().sum()\n",
    "    percent = 100 * df.isnull().sum()/len(df)\n",
    "    missing_table = pd.concat([null_val, percent], axis=1)\n",
    "    col = missing_table.rename(columns = {0 : '#', 1 : '%'})\n",
    "    return col\n",
    "\n",
    "print(\"All data #\"+str(len(all_data)))\n",
    "cols = missing_values(all_data)\n",
    "print(cols.sort_values(by=\"%\", ascending=False))"
   ]
  },
  {
   "cell_type": "code",
   "execution_count": 1075,
   "metadata": {},
   "outputs": [],
   "source": [
    "# удаляем столбцы, где пропусков > 40%\n",
    "all_data.drop(['PoolQC', 'MiscFeature', 'Alley', 'Fence', 'FireplaceQu'], axis=1, inplace = True)"
   ]
  },
  {
   "cell_type": "markdown",
   "metadata": {},
   "source": [
    "#### Заполнение пропусков в категориальных признаках"
   ]
  },
  {
   "cell_type": "code",
   "execution_count": 1044,
   "metadata": {},
   "outputs": [],
   "source": [
    "# названия столбцов с категориальными признаками\n",
    "categorical_columns = all_data.columns[all_data.dtypes == 'object']"
   ]
  },
  {
   "cell_type": "code",
   "execution_count": 1076,
   "metadata": {},
   "outputs": [],
   "source": [
    "from sklearn.preprocessing import LabelEncoder\n",
    "\n",
    "for column in categorical_columns:\n",
    "    all_data[column] = all_data[column].fillna(all_data[column].mode()[0])\n",
    "    all_data[column] = label_encoder.fit_transform(all_data[column])[0]\n",
    "#    all_data[column] = pd.factorize(all_data[column])[0]"
   ]
  },
  {
   "cell_type": "markdown",
   "metadata": {},
   "source": [
    "####  Заполнение пропусков в числовых признаках"
   ]
  },
  {
   "cell_type": "code",
   "execution_count": 1077,
   "metadata": {},
   "outputs": [],
   "source": [
    "# названия столбцов с числовыми признаками\n",
    "cont_columns = all_data.columns[all_data.dtypes != 'object']"
   ]
  },
  {
   "cell_type": "code",
   "execution_count": 1078,
   "metadata": {},
   "outputs": [],
   "source": [
    "from sklearn.preprocessing import StandardScaler #для масштабирования признаков\n",
    "\n",
    "scaler = StandardScaler()\n",
    "for column in cont_columns:\n",
    "    all_data[column] = all_data[column].fillna(all_data[column].mean())\n",
    "    all_data[column] = scaler.fit_transform(all_data[[column]])"
   ]
  },
  {
   "cell_type": "code",
   "execution_count": 1079,
   "metadata": {},
   "outputs": [
    {
     "data": {
      "text/html": [
       "<div>\n",
       "<style scoped>\n",
       "    .dataframe tbody tr th:only-of-type {\n",
       "        vertical-align: middle;\n",
       "    }\n",
       "\n",
       "    .dataframe tbody tr th {\n",
       "        vertical-align: top;\n",
       "    }\n",
       "\n",
       "    .dataframe thead th {\n",
       "        text-align: right;\n",
       "    }\n",
       "</style>\n",
       "<table border=\"1\" class=\"dataframe\">\n",
       "  <thead>\n",
       "    <tr style=\"text-align: right;\">\n",
       "      <th></th>\n",
       "      <th>Id</th>\n",
       "      <th>MSSubClass</th>\n",
       "      <th>MSZoning</th>\n",
       "      <th>LotFrontage</th>\n",
       "      <th>LotArea</th>\n",
       "      <th>Street</th>\n",
       "      <th>LotShape</th>\n",
       "      <th>LandContour</th>\n",
       "      <th>Utilities</th>\n",
       "      <th>LotConfig</th>\n",
       "      <th>...</th>\n",
       "      <th>OpenPorchSF</th>\n",
       "      <th>EnclosedPorch</th>\n",
       "      <th>3SsnPorch</th>\n",
       "      <th>ScreenPorch</th>\n",
       "      <th>PoolArea</th>\n",
       "      <th>MiscVal</th>\n",
       "      <th>MoSold</th>\n",
       "      <th>YrSold</th>\n",
       "      <th>SaleType</th>\n",
       "      <th>SaleCondition</th>\n",
       "    </tr>\n",
       "  </thead>\n",
       "  <tbody>\n",
       "    <tr>\n",
       "      <th>570</th>\n",
       "      <td>-1.055014</td>\n",
       "      <td>0.773042</td>\n",
       "      <td>0.0</td>\n",
       "      <td>0.220295</td>\n",
       "      <td>0.371927</td>\n",
       "      <td>0.0</td>\n",
       "      <td>0.0</td>\n",
       "      <td>0.0</td>\n",
       "      <td>0.0</td>\n",
       "      <td>0.0</td>\n",
       "      <td>...</td>\n",
       "      <td>-0.702843</td>\n",
       "      <td>-0.359601</td>\n",
       "      <td>-0.103331</td>\n",
       "      <td>-0.285935</td>\n",
       "      <td>-0.06315</td>\n",
       "      <td>-0.089592</td>\n",
       "      <td>1.763592</td>\n",
       "      <td>0.157646</td>\n",
       "      <td>0.0</td>\n",
       "      <td>0.0</td>\n",
       "    </tr>\n",
       "    <tr>\n",
       "      <th>864</th>\n",
       "      <td>1.026532</td>\n",
       "      <td>-0.873616</td>\n",
       "      <td>0.0</td>\n",
       "      <td>-0.483643</td>\n",
       "      <td>0.097378</td>\n",
       "      <td>0.0</td>\n",
       "      <td>0.0</td>\n",
       "      <td>0.0</td>\n",
       "      <td>0.0</td>\n",
       "      <td>0.0</td>\n",
       "      <td>...</td>\n",
       "      <td>-0.436428</td>\n",
       "      <td>-0.359601</td>\n",
       "      <td>-0.103331</td>\n",
       "      <td>-0.285935</td>\n",
       "      <td>-0.06315</td>\n",
       "      <td>-0.089592</td>\n",
       "      <td>-0.815344</td>\n",
       "      <td>-0.602962</td>\n",
       "      <td>0.0</td>\n",
       "      <td>0.0</td>\n",
       "    </tr>\n",
       "    <tr>\n",
       "      <th>152</th>\n",
       "      <td>0.181572</td>\n",
       "      <td>-0.873616</td>\n",
       "      <td>0.0</td>\n",
       "      <td>0.000000</td>\n",
       "      <td>0.216455</td>\n",
       "      <td>0.0</td>\n",
       "      <td>0.0</td>\n",
       "      <td>0.0</td>\n",
       "      <td>0.0</td>\n",
       "      <td>0.0</td>\n",
       "      <td>...</td>\n",
       "      <td>-0.702843</td>\n",
       "      <td>-0.359601</td>\n",
       "      <td>-0.103331</td>\n",
       "      <td>-0.285935</td>\n",
       "      <td>-0.06315</td>\n",
       "      <td>-0.089592</td>\n",
       "      <td>-0.078505</td>\n",
       "      <td>1.678860</td>\n",
       "      <td>0.0</td>\n",
       "      <td>0.0</td>\n",
       "    </tr>\n",
       "    <tr>\n",
       "      <th>1344</th>\n",
       "      <td>1.596169</td>\n",
       "      <td>-0.638379</td>\n",
       "      <td>0.0</td>\n",
       "      <td>-0.671360</td>\n",
       "      <td>-0.243241</td>\n",
       "      <td>0.0</td>\n",
       "      <td>0.0</td>\n",
       "      <td>0.0</td>\n",
       "      <td>0.0</td>\n",
       "      <td>0.0</td>\n",
       "      <td>...</td>\n",
       "      <td>-0.702843</td>\n",
       "      <td>1.524159</td>\n",
       "      <td>-0.103331</td>\n",
       "      <td>-0.285935</td>\n",
       "      <td>-0.06315</td>\n",
       "      <td>-0.089592</td>\n",
       "      <td>-0.078505</td>\n",
       "      <td>-1.363569</td>\n",
       "      <td>0.0</td>\n",
       "      <td>0.0</td>\n",
       "    </tr>\n",
       "    <tr>\n",
       "      <th>303</th>\n",
       "      <td>-1.371875</td>\n",
       "      <td>-0.873616</td>\n",
       "      <td>0.0</td>\n",
       "      <td>0.032578</td>\n",
       "      <td>-0.046682</td>\n",
       "      <td>0.0</td>\n",
       "      <td>0.0</td>\n",
       "      <td>0.0</td>\n",
       "      <td>0.0</td>\n",
       "      <td>0.0</td>\n",
       "      <td>...</td>\n",
       "      <td>-0.702843</td>\n",
       "      <td>-0.359601</td>\n",
       "      <td>-0.103331</td>\n",
       "      <td>-0.285935</td>\n",
       "      <td>-0.06315</td>\n",
       "      <td>-0.089592</td>\n",
       "      <td>0.289914</td>\n",
       "      <td>-1.363569</td>\n",
       "      <td>0.0</td>\n",
       "      <td>0.0</td>\n",
       "    </tr>\n",
       "  </tbody>\n",
       "</table>\n",
       "<p>5 rows × 75 columns</p>\n",
       "</div>"
      ],
      "text/plain": [
       "            Id  MSSubClass  MSZoning  LotFrontage   LotArea  Street  LotShape  \\\n",
       "570  -1.055014    0.773042       0.0     0.220295  0.371927     0.0       0.0   \n",
       "864   1.026532   -0.873616       0.0    -0.483643  0.097378     0.0       0.0   \n",
       "152   0.181572   -0.873616       0.0     0.000000  0.216455     0.0       0.0   \n",
       "1344  1.596169   -0.638379       0.0    -0.671360 -0.243241     0.0       0.0   \n",
       "303  -1.371875   -0.873616       0.0     0.032578 -0.046682     0.0       0.0   \n",
       "\n",
       "      LandContour  Utilities  LotConfig  ...  OpenPorchSF  EnclosedPorch  \\\n",
       "570           0.0        0.0        0.0  ...    -0.702843      -0.359601   \n",
       "864           0.0        0.0        0.0  ...    -0.436428      -0.359601   \n",
       "152           0.0        0.0        0.0  ...    -0.702843      -0.359601   \n",
       "1344          0.0        0.0        0.0  ...    -0.702843       1.524159   \n",
       "303           0.0        0.0        0.0  ...    -0.702843      -0.359601   \n",
       "\n",
       "      3SsnPorch  ScreenPorch  PoolArea   MiscVal    MoSold    YrSold  \\\n",
       "570   -0.103331    -0.285935  -0.06315 -0.089592  1.763592  0.157646   \n",
       "864   -0.103331    -0.285935  -0.06315 -0.089592 -0.815344 -0.602962   \n",
       "152   -0.103331    -0.285935  -0.06315 -0.089592 -0.078505  1.678860   \n",
       "1344  -0.103331    -0.285935  -0.06315 -0.089592 -0.078505 -1.363569   \n",
       "303   -0.103331    -0.285935  -0.06315 -0.089592  0.289914 -1.363569   \n",
       "\n",
       "      SaleType  SaleCondition  \n",
       "570        0.0            0.0  \n",
       "864        0.0            0.0  \n",
       "152        0.0            0.0  \n",
       "1344       0.0            0.0  \n",
       "303        0.0            0.0  \n",
       "\n",
       "[5 rows x 75 columns]"
      ]
     },
     "execution_count": 1079,
     "metadata": {},
     "output_type": "execute_result"
    }
   ],
   "source": [
    "all_data.sample(n=5)"
   ]
  },
  {
   "cell_type": "code",
   "execution_count": 1080,
   "metadata": {},
   "outputs": [
    {
     "data": {
      "text/plain": [
       "(2919, 75)"
      ]
     },
     "execution_count": 1080,
     "metadata": {},
     "output_type": "execute_result"
    }
   ],
   "source": [
    "all_data.shape"
   ]
  },
  {
   "cell_type": "code",
   "execution_count": 1081,
   "metadata": {},
   "outputs": [],
   "source": [
    "train = all_data[:1460]\n",
    "test  = all_data[1460:]"
   ]
  },
  {
   "cell_type": "markdown",
   "metadata": {},
   "source": [
    "#### Выбираем признаки для обучения"
   ]
  },
  {
   "cell_type": "code",
   "execution_count": 1082,
   "metadata": {},
   "outputs": [
    {
     "name": "stdout",
     "output_type": "stream",
     "text": [
      "Важность признаков:\n",
      "nan SaleCondition\n",
      "nan HeatingQC\n",
      "nan Foundation\n",
      "nan BsmtQual\n",
      "nan BsmtCond\n",
      "nan BsmtExposure\n",
      "nan BsmtFinType1\n",
      "nan BsmtFinType2\n",
      "nan Heating\n",
      "nan CentralAir\n",
      "nan SaleType\n",
      "nan Electrical\n",
      "nan KitchenQual\n",
      "nan Functional\n",
      "nan SaleType\n",
      "nan GarageFinish\n",
      "nan GarageQual\n",
      "nan GarageCond\n",
      "nan ExterCond\n",
      "nan ExterQual\n",
      "nan MasVnrType\n",
      "nan Exterior2nd\n",
      "nan MSZoning\n",
      "nan Street\n",
      "nan LotShape\n",
      "nan LandContour\n",
      "nan Utilities\n",
      "nan LotConfig\n",
      "nan LandSlope\n",
      "nan Neighborhood\n",
      "nan Condition1\n",
      "nan Condition2\n",
      "nan BldgType\n",
      "nan HouseStyle\n",
      "nan RoofStyle\n",
      "nan RoofMatl\n",
      "nan Exterior1st\n",
      "nan PavedDrive\n",
      "nan GarageType\n",
      "nan SaleCondition\n",
      "nan KitchenQual\n",
      "nan CentralAir\n",
      "nan HeatingQC\n",
      "nan BsmtFinType2\n",
      "nan Neighborhood\n",
      "nan Condition1\n",
      "nan Condition2\n",
      "nan BldgType\n",
      "nan HouseStyle\n",
      "nan RoofStyle\n",
      "nan RoofMatl\n",
      "nan Exterior1st\n",
      "nan Exterior2nd\n",
      "nan MasVnrType\n",
      "nan ExterQual\n",
      "nan ExterCond\n",
      "nan Foundation\n",
      "nan BsmtQual\n",
      "nan BsmtCond\n",
      "nan BsmtExposure\n",
      "nan Electrical\n",
      "nan Heating\n",
      "nan LandSlope\n",
      "nan LandContour\n",
      "nan PavedDrive\n",
      "nan GarageCond\n",
      "nan GarageQual\n",
      "nan GarageFinish\n",
      "nan GarageType\n",
      "nan Functional\n",
      "nan MSZoning\n",
      "nan Street\n",
      "nan LotShape\n",
      "nan BsmtFinType1\n",
      "nan Utilities\n",
      "nan LotConfig\n",
      "113.87 OverallQual\n",
      "68.38 MiscVal\n",
      "59.99 GrLivArea\n",
      "56.00 LotArea\n",
      "44.38 GarageCars\n",
      "39.28 FullBath\n",
      "36.59 GarageArea\n",
      "29.69 1stFlrSF\n",
      "29.03 TotalBsmtSF\n",
      "28.89 YearBuilt\n",
      "19.93 MasVnrArea\n",
      "16.84 TotRmsAbvGrd\n",
      "15.64 YearRemodAdd\n",
      "15.25 GarageYrBlt\n",
      "12.24 BsmtFinSF1\n",
      "11.48 2ndFlrSF\n",
      "10.91 Fireplaces\n",
      "6.66 BsmtUnfSF\n",
      "6.02 OpenPorchSF\n",
      "5.85 HalfBath\n",
      "5.13 WoodDeckSF\n",
      "2.67 BedroomAbvGr\n",
      "2.30 LotFrontage\n",
      "1.36 BsmtFullBath\n",
      "1.04 OverallCond\n",
      "0.74 YrSold\n",
      "0.30 ScreenPorch\n",
      "0.27 BsmtFinSF2\n",
      "0.23 PoolArea\n",
      "0.12 MoSold\n",
      "0.08 Id\n",
      "0.02 3SsnPorch\n",
      "0.02 KitchenAbvGr\n",
      "0.02 MSSubClass\n",
      "0.01 LowQualFinSF\n",
      "0.01 BsmtHalfBath\n",
      "0.00 EnclosedPorch\n"
     ]
    },
    {
     "name": "stderr",
     "output_type": "stream",
     "text": [
      "/Users/yan1/PRO/environments/py3mfti/lib/python3.7/site-packages/sklearn/feature_selection/univariate_selection.py:114: UserWarning: Features [  2   5   6   7   8   9  10  11  12  13  14  15  20  21  22  23  24  26\n",
      "  27  28  29  30  31  32  34  38  39  40  41  52  54  56  58  61  62  63\n",
      "  73  74  75  76  77  78  79  80  81  82  83  84  85  86  87  88  89  90\n",
      "  91  92  93  94  95  96  97  98  99 100 101 102 103 104 105 106 107 108\n",
      " 109 110 111 112] are constant.\n",
      "  UserWarning)\n",
      "/Users/yan1/PRO/environments/py3mfti/lib/python3.7/site-packages/sklearn/feature_selection/univariate_selection.py:115: RuntimeWarning: invalid value encountered in true_divide\n",
      "  f = msb / msw\n"
     ]
    }
   ],
   "source": [
    "from sklearn.feature_selection import SelectKBest, f_classif\n",
    "\n",
    "all_features = cont_columns.append(categorical_columns)\n",
    "\n",
    "selector = SelectKBest(f_classif, len(all_features))\n",
    "selector.fit(train[all_features], train_target)\n",
    "scores = -np.log10(selector.pvalues_)\n",
    "indices = np.argsort(scores)[::-1]\n",
    "\n",
    "print('Важность признаков:')\n",
    "for i in range(len(scores)):\n",
    "    print('%.2f %s' % (scores[indices[i]], all_features[indices[i]]))\n",
    "\n"
   ]
  },
  {
   "cell_type": "code",
   "execution_count": 1083,
   "metadata": {},
   "outputs": [],
   "source": [
    "fparams = \\\n",
    "    ['OverallQual', 'MiscVal', 'GrLivArea', 'LotArea', 'GarageCars', \n",
    "     'FullBath', 'ExterQual', 'GarageArea', '1stFlrSF', 'TotalBsmtSF', \n",
    "     'YearBuilt', 'Foundation', 'KitchenQual', 'MasVnrArea', 'BsmtQual', \n",
    "     'TotRmsAbvGrd', 'Street', 'YearRemodAdd', 'GarageYrBlt', 'BsmtFinSF1', \n",
    "     '2ndFlrSF', 'Fireplaces', 'Heating', 'CentralAir', 'LotShape', \n",
    "     'SaleCondition', 'BsmtUnfSF', 'OpenPorchSF', 'GarageFinish', 'HalfBath', \n",
    "     'WoodDeckSF', 'HeatingQC', 'BsmtExposure', 'LandContour', 'Exterior2nd', \n",
    "     'MSZoning', 'BedroomAbvGr', 'MasVnrType', 'BsmtFinType1', 'LotFrontage', \n",
    "     'Neighborhood', 'Electrical', 'LandSlope', 'SaleType', 'BsmtFullBath', \n",
    "     'Exterior1st', 'OverallCond', 'YrSold', 'BsmtCond', 'GarageType', \n",
    "     'LotConfig', 'ScreenPorch', 'BsmtFinSF2', 'GarageQual', 'PoolArea', \n",
    "     'Condition2', 'MoSold', 'BldgType']\n",
    "\n",
    "train_features = train[fparams].values\n",
    "test_features  = test[fparams].values\n",
    "train_target = train_target.values\n",
    "test_target = test_target.values"
   ]
  },
  {
   "cell_type": "code",
   "execution_count": 1091,
   "metadata": {},
   "outputs": [
    {
     "name": "stderr",
     "output_type": "stream",
     "text": [
      "/Users/yan1/PRO/environments/py3mfti/lib/python3.7/site-packages/sklearn/model_selection/_split.py:657: Warning: The least populated class in y has only 1 members, which is too few. The minimum number of members in any class cannot be less than n_splits=5.\n",
      "  % (min_groups, self.n_splits)), Warning)\n",
      "/Users/yan1/PRO/environments/py3mfti/lib/python3.7/site-packages/sklearn/model_selection/_search.py:813: DeprecationWarning: The default of the `iid` parameter will change from True to False in version 0.22 and will be removed in 0.24. This will change numeric results when test-set sizes are unequal.\n",
      "  DeprecationWarning)\n"
     ]
    },
    {
     "name": "stdout",
     "output_type": "stream",
     "text": [
      "Наилучший набор параметров модели SVC(C=2.0, cache_size=200, class_weight=None, coef0=0.0,\n",
      "    decision_function_shape='ovr', degree=3, gamma='auto', kernel='rbf',\n",
      "    max_iter=-1, probability=False, random_state=None, shrinking=True,\n",
      "    tol=0.001, verbose=False) со значением метрики neg_mean_squared_error -2325070939.2726026\n"
     ]
    }
   ],
   "source": [
    "from sklearn.svm import SVC\n",
    "from sklearn.model_selection import GridSearchCV\n",
    "from sklearn.metrics import mean_squared_error \n",
    "\n",
    "params = [{'C'      : [0.1, 1.0, 2.0]},\n",
    "          {'kernel' : ['linear', 'poly', 'rbf']},\n",
    "          {'degree' : [1, 2, 3]},\n",
    "          {'gamma'  : ['auto', 'scale']} ]\n",
    "\n",
    "gs = GridSearchCV(SVC(gamma = 'auto'), param_grid = params, scoring = 'neg_mean_squared_error', cv = 5)\n",
    "gs.fit(train_features, train_target)\n",
    "print('Наилучший набор параметров модели', gs.best_estimator_, 'со значением метрики neg_mean_squared_error', gs.best_score_)           "
   ]
  },
  {
   "cell_type": "code",
   "execution_count": 1090,
   "metadata": {},
   "outputs": [
    {
     "name": "stderr",
     "output_type": "stream",
     "text": [
      "/Users/yan1/PRO/environments/py3mfti/lib/python3.7/site-packages/sklearn/linear_model/coordinate_descent.py:475: ConvergenceWarning: Objective did not converge. You might want to increase the number of iterations. Duality gap: 7166928974.959717, tolerance: 920791133.4609975\n",
      "  positive)\n",
      "/Users/yan1/PRO/environments/py3mfti/lib/python3.7/site-packages/sklearn/linear_model/coordinate_descent.py:475: ConvergenceWarning: Objective did not converge. You might want to increase the number of iterations. Duality gap: 783614753977.8582, tolerance: 759214014.2531197\n",
      "  positive)\n",
      "/Users/yan1/PRO/environments/py3mfti/lib/python3.7/site-packages/sklearn/linear_model/coordinate_descent.py:475: ConvergenceWarning: Objective did not converge. You might want to increase the number of iterations. Duality gap: 725491742591.4154, tolerance: 728773513.025937\n",
      "  positive)\n",
      "/Users/yan1/PRO/environments/py3mfti/lib/python3.7/site-packages/sklearn/linear_model/coordinate_descent.py:475: ConvergenceWarning: Objective did not converge. You might want to increase the number of iterations. Duality gap: 709571921938.9945, tolerance: 699031751.5199751\n",
      "  positive)\n",
      "/Users/yan1/PRO/environments/py3mfti/lib/python3.7/site-packages/sklearn/linear_model/coordinate_descent.py:475: ConvergenceWarning: Objective did not converge. You might want to increase the number of iterations. Duality gap: 767131883602.8462, tolerance: 770619031.1834062\n",
      "  positive)\n",
      "/Users/yan1/PRO/environments/py3mfti/lib/python3.7/site-packages/sklearn/linear_model/coordinate_descent.py:475: ConvergenceWarning: Objective did not converge. You might want to increase the number of iterations. Duality gap: 568790689842.3453, tolerance: 724930391.3116124\n",
      "  positive)\n",
      "/Users/yan1/PRO/environments/py3mfti/lib/python3.7/site-packages/sklearn/linear_model/coordinate_descent.py:475: ConvergenceWarning: Objective did not converge. You might want to increase the number of iterations. Duality gap: 147185387775.01648, tolerance: 759214014.2531197\n",
      "  positive)\n",
      "/Users/yan1/PRO/environments/py3mfti/lib/python3.7/site-packages/sklearn/linear_model/coordinate_descent.py:475: ConvergenceWarning: Objective did not converge. You might want to increase the number of iterations. Duality gap: 71358454745.51111, tolerance: 728773513.025937\n",
      "  positive)\n",
      "/Users/yan1/PRO/environments/py3mfti/lib/python3.7/site-packages/sklearn/linear_model/coordinate_descent.py:475: ConvergenceWarning: Objective did not converge. You might want to increase the number of iterations. Duality gap: 62485923044.71765, tolerance: 699031751.5199751\n",
      "  positive)\n",
      "/Users/yan1/PRO/environments/py3mfti/lib/python3.7/site-packages/sklearn/linear_model/coordinate_descent.py:475: ConvergenceWarning: Objective did not converge. You might want to increase the number of iterations. Duality gap: 70640623313.13611, tolerance: 770619031.1834062\n",
      "  positive)\n",
      "/Users/yan1/PRO/environments/py3mfti/lib/python3.7/site-packages/sklearn/linear_model/coordinate_descent.py:475: ConvergenceWarning: Objective did not converge. You might want to increase the number of iterations. Duality gap: 57391752666.05591, tolerance: 724930391.3116124\n",
      "  positive)\n",
      "/Users/yan1/PRO/environments/py3mfti/lib/python3.7/site-packages/sklearn/linear_model/coordinate_descent.py:475: ConvergenceWarning: Objective did not converge. You might want to increase the number of iterations. Duality gap: 782812850533.6448, tolerance: 759214014.2531197\n",
      "  positive)\n",
      "/Users/yan1/PRO/environments/py3mfti/lib/python3.7/site-packages/sklearn/linear_model/coordinate_descent.py:475: ConvergenceWarning: Objective did not converge. You might want to increase the number of iterations. Duality gap: 700088309779.8584, tolerance: 728773513.025937\n",
      "  positive)\n",
      "/Users/yan1/PRO/environments/py3mfti/lib/python3.7/site-packages/sklearn/linear_model/coordinate_descent.py:475: ConvergenceWarning: Objective did not converge. You might want to increase the number of iterations. Duality gap: 691342151738.0587, tolerance: 699031751.5199751\n",
      "  positive)\n",
      "/Users/yan1/PRO/environments/py3mfti/lib/python3.7/site-packages/sklearn/linear_model/coordinate_descent.py:475: ConvergenceWarning: Objective did not converge. You might want to increase the number of iterations. Duality gap: 757629711463.5917, tolerance: 770619031.1834062\n",
      "  positive)\n",
      "/Users/yan1/PRO/environments/py3mfti/lib/python3.7/site-packages/sklearn/linear_model/coordinate_descent.py:475: ConvergenceWarning: Objective did not converge. You might want to increase the number of iterations. Duality gap: 545279115860.19104, tolerance: 724930391.3116124\n",
      "  positive)\n",
      "/Users/yan1/PRO/environments/py3mfti/lib/python3.7/site-packages/sklearn/linear_model/coordinate_descent.py:475: ConvergenceWarning: Objective did not converge. You might want to increase the number of iterations. Duality gap: 85180858470.88062, tolerance: 920791133.4609975\n",
      "  positive)\n"
     ]
    },
    {
     "name": "stdout",
     "output_type": "stream",
     "text": [
      "Best score -1422630807.9239829\n"
     ]
    }
   ],
   "source": [
    "from sklearn.linear_model import Lasso\n",
    "lasso_regressor = Lasso()\n",
    "lasso_regressor.fit(train_features, train_target)\n",
    "\n",
    "gs = GridSearchCV(lasso_regressor, {'alpha' : [0.00001, 2, 0.001]}, scoring = 'neg_mean_squared_error', cv = 5)\n",
    "gs.fit(train_features, train_target)\n",
    "lasso_predictions = lasso_regressor.predict(test_features)\n",
    "print(\"Best score\", gs.best_score_)"
   ]
  },
  {
   "cell_type": "code",
   "execution_count": null,
   "metadata": {},
   "outputs": [],
   "source": []
  }
 ],
 "metadata": {
  "kernelspec": {
   "display_name": "Python 3",
   "language": "python",
   "name": "python3"
  },
  "language_info": {
   "codemirror_mode": {
    "name": "ipython",
    "version": 3
   },
   "file_extension": ".py",
   "mimetype": "text/x-python",
   "name": "python",
   "nbconvert_exporter": "python",
   "pygments_lexer": "ipython3",
   "version": "3.7.3"
  }
 },
 "nbformat": 4,
 "nbformat_minor": 2
}
